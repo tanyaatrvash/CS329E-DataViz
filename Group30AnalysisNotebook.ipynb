{
 "cells": [
  {
   "cell_type": "code",
   "execution_count": 49,
   "metadata": {
    "_cell_guid": "b1076dfc-b9ad-4769-8c92-a6c4dae69d19",
    "_uuid": "8f2839f25d086af736a60e9eeb907d3b93b6e0e5",
    "tags": []
   },
   "outputs": [],
   "source": [
    "import numpy as np\n",
    "import pandas as pd \n",
    "import altair as alt\n",
    "import matplotlib.pyplot as plt"
   ]
  },
  {
   "cell_type": "code",
   "execution_count": 2,
   "metadata": {
    "tags": []
   },
   "outputs": [],
   "source": [
    "# Inputting data\n",
    "df = pd.read_csv('SNAP_history_1969_2019.csv')"
   ]
  },
  {
   "cell_type": "code",
   "execution_count": 3,
   "metadata": {},
   "outputs": [],
   "source": [
    "# Kaggle Food Access Data\n",
    "# Original dataframe has a huge column number, so I handpicked the most relevant ones to our goal, creating dfK\n",
    "\n",
    "df2 = pd.read_csv('Data Food Access 2019.csv')\n",
    "dfK = df2.filter(['CensusTract', 'State', 'County', 'Urban', 'Pop2010', 'OHU2010', 'GroupQuartersFlag',\n",
    "                'LowIncomeTracts', 'PovertyRate', 'MedianFamilyIncome' ], axis=1)"
   ]
  },
  {
   "cell_type": "markdown",
   "metadata": {},
   "source": [
    "# Familiarizing with Data"
   ]
  },
  {
   "cell_type": "markdown",
   "metadata": {},
   "source": [
    "## SNAP DATASET"
   ]
  },
  {
   "cell_type": "code",
   "execution_count": 4,
   "metadata": {},
   "outputs": [
    {
     "name": "stdout",
     "output_type": "stream",
     "text": [
      "<class 'pandas.core.frame.DataFrame'>\n",
      "RangeIndex: 51 entries, 0 to 50\n",
      "Data columns (total 6 columns):\n",
      " #   Column                      Non-Null Count  Dtype  \n",
      "---  ------                      --------------  -----  \n",
      " 0   Fiscal Year                 51 non-null     object \n",
      " 1   Average Participation       51 non-null     object \n",
      " 2   Average Benefit Per Person  51 non-null     float64\n",
      " 3   Total Benefits(M)           51 non-null     object \n",
      " 4   Other Costs                 51 non-null     object \n",
      " 5   Total Costs(M)              51 non-null     object \n",
      "dtypes: float64(1), object(5)\n",
      "memory usage: 2.5+ KB\n"
     ]
    }
   ],
   "source": [
    "df.info()"
   ]
  },
  {
   "cell_type": "code",
   "execution_count": 5,
   "metadata": {},
   "outputs": [
    {
     "data": {
      "text/html": [
       "<div>\n",
       "<style scoped>\n",
       "    .dataframe tbody tr th:only-of-type {\n",
       "        vertical-align: middle;\n",
       "    }\n",
       "\n",
       "    .dataframe tbody tr th {\n",
       "        vertical-align: top;\n",
       "    }\n",
       "\n",
       "    .dataframe thead th {\n",
       "        text-align: right;\n",
       "    }\n",
       "</style>\n",
       "<table border=\"1\" class=\"dataframe\">\n",
       "  <thead>\n",
       "    <tr style=\"text-align: right;\">\n",
       "      <th></th>\n",
       "      <th>Average Benefit Per Person</th>\n",
       "    </tr>\n",
       "  </thead>\n",
       "  <tbody>\n",
       "    <tr>\n",
       "      <th>count</th>\n",
       "      <td>51.000000</td>\n",
       "    </tr>\n",
       "    <tr>\n",
       "      <th>mean</th>\n",
       "      <td>69.163725</td>\n",
       "    </tr>\n",
       "    <tr>\n",
       "      <th>std</th>\n",
       "      <td>39.653545</td>\n",
       "    </tr>\n",
       "    <tr>\n",
       "      <th>min</th>\n",
       "      <td>6.630000</td>\n",
       "    </tr>\n",
       "    <tr>\n",
       "      <th>25%</th>\n",
       "      <td>39.330000</td>\n",
       "    </tr>\n",
       "    <tr>\n",
       "      <th>50%</th>\n",
       "      <td>69.000000</td>\n",
       "    </tr>\n",
       "    <tr>\n",
       "      <th>75%</th>\n",
       "      <td>95.465000</td>\n",
       "    </tr>\n",
       "    <tr>\n",
       "      <th>max</th>\n",
       "      <td>133.850000</td>\n",
       "    </tr>\n",
       "  </tbody>\n",
       "</table>\n",
       "</div>"
      ],
      "text/plain": [
       "       Average Benefit Per Person\n",
       "count                   51.000000\n",
       "mean                    69.163725\n",
       "std                     39.653545\n",
       "min                      6.630000\n",
       "25%                     39.330000\n",
       "50%                     69.000000\n",
       "75%                     95.465000\n",
       "max                    133.850000"
      ]
     },
     "execution_count": 5,
     "metadata": {},
     "output_type": "execute_result"
    }
   ],
   "source": [
    "df.describe()"
   ]
  },
  {
   "cell_type": "code",
   "execution_count": 6,
   "metadata": {},
   "outputs": [
    {
     "data": {
      "text/plain": [
       "(51, 6)"
      ]
     },
     "execution_count": 6,
     "metadata": {},
     "output_type": "execute_result"
    }
   ],
   "source": [
    "df.shape"
   ]
  },
  {
   "cell_type": "code",
   "execution_count": 7,
   "metadata": {},
   "outputs": [
    {
     "data": {
      "text/html": [
       "<div>\n",
       "<style scoped>\n",
       "    .dataframe tbody tr th:only-of-type {\n",
       "        vertical-align: middle;\n",
       "    }\n",
       "\n",
       "    .dataframe tbody tr th {\n",
       "        vertical-align: top;\n",
       "    }\n",
       "\n",
       "    .dataframe thead th {\n",
       "        text-align: right;\n",
       "    }\n",
       "</style>\n",
       "<table border=\"1\" class=\"dataframe\">\n",
       "  <thead>\n",
       "    <tr style=\"text-align: right;\">\n",
       "      <th></th>\n",
       "      <th>Fiscal Year</th>\n",
       "      <th>Average Participation</th>\n",
       "      <th>Average Benefit Per Person</th>\n",
       "      <th>Total Benefits(M)</th>\n",
       "      <th>Other Costs</th>\n",
       "      <th>Total Costs(M)</th>\n",
       "    </tr>\n",
       "  </thead>\n",
       "  <tbody>\n",
       "    <tr>\n",
       "      <th>0</th>\n",
       "      <td>1969</td>\n",
       "      <td>2,878</td>\n",
       "      <td>6.63</td>\n",
       "      <td>228.80</td>\n",
       "      <td>21.70</td>\n",
       "      <td>250.50</td>\n",
       "    </tr>\n",
       "    <tr>\n",
       "      <th>1</th>\n",
       "      <td>1970</td>\n",
       "      <td>4,340</td>\n",
       "      <td>10.55</td>\n",
       "      <td>549.70</td>\n",
       "      <td>27.20</td>\n",
       "      <td>576.90</td>\n",
       "    </tr>\n",
       "    <tr>\n",
       "      <th>2</th>\n",
       "      <td>1971</td>\n",
       "      <td>9,368</td>\n",
       "      <td>13.55</td>\n",
       "      <td>1,522.70</td>\n",
       "      <td>53.20</td>\n",
       "      <td>1,575.90</td>\n",
       "    </tr>\n",
       "    <tr>\n",
       "      <th>3</th>\n",
       "      <td>1972</td>\n",
       "      <td>11,109</td>\n",
       "      <td>13.48</td>\n",
       "      <td>1,797.30</td>\n",
       "      <td>69.40</td>\n",
       "      <td>1,866.70</td>\n",
       "    </tr>\n",
       "    <tr>\n",
       "      <th>4</th>\n",
       "      <td>1973</td>\n",
       "      <td>12,166</td>\n",
       "      <td>14.60</td>\n",
       "      <td>2,131.40</td>\n",
       "      <td>76.00</td>\n",
       "      <td>2,207.40</td>\n",
       "    </tr>\n",
       "  </tbody>\n",
       "</table>\n",
       "</div>"
      ],
      "text/plain": [
       "  Fiscal Year Average Participation  Average Benefit Per Person  \\\n",
       "0        1969                 2,878                        6.63   \n",
       "1        1970                 4,340                       10.55   \n",
       "2        1971                 9,368                       13.55   \n",
       "3        1972                11,109                       13.48   \n",
       "4        1973                12,166                       14.60   \n",
       "\n",
       "  Total Benefits(M) Other Costs Total Costs(M)  \n",
       "0            228.80       21.70         250.50  \n",
       "1            549.70       27.20         576.90  \n",
       "2          1,522.70       53.20       1,575.90  \n",
       "3          1,797.30       69.40       1,866.70  \n",
       "4          2,131.40       76.00       2,207.40  "
      ]
     },
     "execution_count": 7,
     "metadata": {},
     "output_type": "execute_result"
    }
   ],
   "source": [
    "df.head()"
   ]
  },
  {
   "cell_type": "code",
   "execution_count": 8,
   "metadata": {},
   "outputs": [
    {
     "data": {
      "text/html": [
       "<div>\n",
       "<style scoped>\n",
       "    .dataframe tbody tr th:only-of-type {\n",
       "        vertical-align: middle;\n",
       "    }\n",
       "\n",
       "    .dataframe tbody tr th {\n",
       "        vertical-align: top;\n",
       "    }\n",
       "\n",
       "    .dataframe thead th {\n",
       "        text-align: right;\n",
       "    }\n",
       "</style>\n",
       "<table border=\"1\" class=\"dataframe\">\n",
       "  <thead>\n",
       "    <tr style=\"text-align: right;\">\n",
       "      <th></th>\n",
       "      <th>Fiscal Year</th>\n",
       "      <th>Average Participation</th>\n",
       "      <th>Average Benefit Per Person</th>\n",
       "      <th>Total Benefits(M)</th>\n",
       "      <th>Other Costs</th>\n",
       "      <th>Total Costs(M)</th>\n",
       "    </tr>\n",
       "  </thead>\n",
       "  <tbody>\n",
       "    <tr>\n",
       "      <th>46</th>\n",
       "      <td>2015</td>\n",
       "      <td>45,767</td>\n",
       "      <td>126.81</td>\n",
       "      <td>69,645.14</td>\n",
       "      <td>4,301.03</td>\n",
       "      <td>73,946.17</td>\n",
       "    </tr>\n",
       "    <tr>\n",
       "      <th>47</th>\n",
       "      <td>2016</td>\n",
       "      <td>44,220</td>\n",
       "      <td>125.40</td>\n",
       "      <td>66,539.27</td>\n",
       "      <td>4,374.28</td>\n",
       "      <td>70,913.55</td>\n",
       "    </tr>\n",
       "    <tr>\n",
       "      <th>48</th>\n",
       "      <td>2017</td>\n",
       "      <td>42,317</td>\n",
       "      <td>125.47</td>\n",
       "      <td>63,711.05</td>\n",
       "      <td>4,463.67</td>\n",
       "      <td>68,174.72</td>\n",
       "    </tr>\n",
       "    <tr>\n",
       "      <th>49</th>\n",
       "      <td>2018</td>\n",
       "      <td>40,776</td>\n",
       "      <td>124.50</td>\n",
       "      <td>60,916.85</td>\n",
       "      <td>4,529.55</td>\n",
       "      <td>65,446.40</td>\n",
       "    </tr>\n",
       "    <tr>\n",
       "      <th>50</th>\n",
       "      <td>2019</td>\n",
       "      <td>35,703</td>\n",
       "      <td>129.83</td>\n",
       "      <td>55,621.88</td>\n",
       "      <td>4,744.33</td>\n",
       "      <td>60,366.21</td>\n",
       "    </tr>\n",
       "  </tbody>\n",
       "</table>\n",
       "</div>"
      ],
      "text/plain": [
       "   Fiscal Year Average Participation  Average Benefit Per Person  \\\n",
       "46        2015                45,767                      126.81   \n",
       "47        2016                44,220                      125.40   \n",
       "48        2017                42,317                      125.47   \n",
       "49        2018                40,776                      124.50   \n",
       "50        2019                35,703                      129.83   \n",
       "\n",
       "   Total Benefits(M) Other Costs Total Costs(M)  \n",
       "46         69,645.14    4,301.03      73,946.17  \n",
       "47         66,539.27    4,374.28      70,913.55  \n",
       "48         63,711.05    4,463.67      68,174.72  \n",
       "49         60,916.85    4,529.55      65,446.40  \n",
       "50         55,621.88    4,744.33      60,366.21  "
      ]
     },
     "execution_count": 8,
     "metadata": {},
     "output_type": "execute_result"
    }
   ],
   "source": [
    "df.tail()"
   ]
  },
  {
   "cell_type": "code",
   "execution_count": 9,
   "metadata": {},
   "outputs": [
    {
     "data": {
      "text/plain": [
       "Index(['Fiscal Year', 'Average Participation', 'Average Benefit Per Person',\n",
       "       'Total Benefits(M)', 'Other Costs', 'Total Costs(M)'],\n",
       "      dtype='object')"
      ]
     },
     "execution_count": 9,
     "metadata": {},
     "output_type": "execute_result"
    }
   ],
   "source": [
    "df.columns"
   ]
  },
  {
   "cell_type": "code",
   "execution_count": 10,
   "metadata": {},
   "outputs": [
    {
     "name": "stdout",
     "output_type": "stream",
     "text": [
      "COLUMN CLASSIFICATIONS:\n",
      " - Fiscal Year: Categorical\n",
      " - Average Participation: Categorical\n",
      " - Average Benefit Per Person: Continuous\n",
      " - Total Benefits(M): Categorical\n",
      " - Other Costs: Categorical\n",
      " - Total Costs(M): Categorical\n"
     ]
    }
   ],
   "source": [
    "print('COLUMN CLASSIFICATIONS:')\n",
    "column_classifications = {}\n",
    "\n",
    "for column in df.columns:\n",
    "    if df[column].dtype == 'object':\n",
    "        column_classifications[column] = 'Categorical'\n",
    "    elif df[column].dtype == 'int64':\n",
    "        column_classifications[column] = 'Discrete'\n",
    "    elif df[column].dtype == 'float64':\n",
    "        column_classifications[column] = 'Continuous'\n",
    "    elif df[column].dtype == 'datetime64[ns]':\n",
    "        column_classifications[column] = 'Ordinal'\n",
    "\n",
    "for column, classification in column_classifications.items():\n",
    "    print(f' - {column}: {classification}')"
   ]
  },
  {
   "cell_type": "code",
   "execution_count": 11,
   "metadata": {},
   "outputs": [
    {
     "name": "stdout",
     "output_type": "stream",
     "text": [
      "Statistics for Average Benefit Per Person:\n",
      " - Count: 51.0\n",
      " - Mean: 69.16372549019607\n",
      " - Standard Deviation: 39.653545009786164\n",
      " - Minimum: 6.63\n",
      " - 25th Percentile: 39.33\n",
      " - Median (50th Percentile): 69.0\n",
      " - 75th Percentile: 95.465\n",
      " - Maximum: 133.85\n",
      "\n"
     ]
    }
   ],
   "source": [
    "# Statistics per column\n",
    "for column in df.columns:\n",
    "    data_type = df[column].dtype\n",
    "    \n",
    "    # For quantitative data\n",
    "    if data_type in ['int64', 'float64']:\n",
    "        # Calculate descriptive statistics\n",
    "        stats = df[column].describe()\n",
    "        \n",
    "        print(f\"Statistics for {column}:\")\n",
    "        print(f\" - Count: {stats['count']}\")\n",
    "        print(f\" - Mean: {stats['mean']}\")\n",
    "        print(f\" - Standard Deviation: {stats['std']}\")\n",
    "        print(f\" - Minimum: {stats['min']}\")\n",
    "        print(f\" - 25th Percentile: {stats['25%']}\")\n",
    "        print(f\" - Median (50th Percentile): {stats['50%']}\")\n",
    "        print(f\" - 75th Percentile: {stats['75%']}\")\n",
    "        print(f\" - Maximum: {stats['max']}\")\n",
    "        print()"
   ]
  },
  {
   "cell_type": "markdown",
   "metadata": {},
   "source": [
    "## KAGGLE FOOD ACCESS DATASET"
   ]
  },
  {
   "cell_type": "code",
   "execution_count": 12,
   "metadata": {},
   "outputs": [
    {
     "name": "stdout",
     "output_type": "stream",
     "text": [
      "<class 'pandas.core.frame.DataFrame'>\n",
      "RangeIndex: 72531 entries, 0 to 72530\n",
      "Data columns (total 10 columns):\n",
      " #   Column              Non-Null Count  Dtype  \n",
      "---  ------              --------------  -----  \n",
      " 0   CensusTract         72531 non-null  int64  \n",
      " 1   State               72531 non-null  object \n",
      " 2   County              72531 non-null  object \n",
      " 3   Urban               72531 non-null  int64  \n",
      " 4   Pop2010             72531 non-null  int64  \n",
      " 5   OHU2010             72531 non-null  int64  \n",
      " 6   GroupQuartersFlag   72531 non-null  int64  \n",
      " 7   LowIncomeTracts     72531 non-null  int64  \n",
      " 8   PovertyRate         72528 non-null  float64\n",
      " 9   MedianFamilyIncome  71783 non-null  float64\n",
      "dtypes: float64(2), int64(6), object(2)\n",
      "memory usage: 5.5+ MB\n"
     ]
    }
   ],
   "source": [
    "# Column number, names, and types\n",
    "dfK.info()"
   ]
  },
  {
   "cell_type": "code",
   "execution_count": 13,
   "metadata": {},
   "outputs": [
    {
     "data": {
      "text/html": [
       "<div>\n",
       "<style scoped>\n",
       "    .dataframe tbody tr th:only-of-type {\n",
       "        vertical-align: middle;\n",
       "    }\n",
       "\n",
       "    .dataframe tbody tr th {\n",
       "        vertical-align: top;\n",
       "    }\n",
       "\n",
       "    .dataframe thead th {\n",
       "        text-align: right;\n",
       "    }\n",
       "</style>\n",
       "<table border=\"1\" class=\"dataframe\">\n",
       "  <thead>\n",
       "    <tr style=\"text-align: right;\">\n",
       "      <th></th>\n",
       "      <th>CensusTract</th>\n",
       "      <th>Urban</th>\n",
       "      <th>Pop2010</th>\n",
       "      <th>OHU2010</th>\n",
       "      <th>GroupQuartersFlag</th>\n",
       "      <th>LowIncomeTracts</th>\n",
       "      <th>PovertyRate</th>\n",
       "      <th>MedianFamilyIncome</th>\n",
       "    </tr>\n",
       "  </thead>\n",
       "  <tbody>\n",
       "    <tr>\n",
       "      <th>count</th>\n",
       "      <td>7.253100e+04</td>\n",
       "      <td>72531.000000</td>\n",
       "      <td>72531.000000</td>\n",
       "      <td>72531.000000</td>\n",
       "      <td>72531.000000</td>\n",
       "      <td>72531.000000</td>\n",
       "      <td>72528.000000</td>\n",
       "      <td>71783.000000</td>\n",
       "    </tr>\n",
       "    <tr>\n",
       "      <th>mean</th>\n",
       "      <td>2.782573e+10</td>\n",
       "      <td>0.760626</td>\n",
       "      <td>4256.739022</td>\n",
       "      <td>1609.191821</td>\n",
       "      <td>0.007114</td>\n",
       "      <td>0.417573</td>\n",
       "      <td>15.183864</td>\n",
       "      <td>77037.792249</td>\n",
       "    </tr>\n",
       "    <tr>\n",
       "      <th>std</th>\n",
       "      <td>1.581647e+10</td>\n",
       "      <td>0.426704</td>\n",
       "      <td>1955.987626</td>\n",
       "      <td>725.676046</td>\n",
       "      <td>0.084046</td>\n",
       "      <td>0.493162</td>\n",
       "      <td>11.919903</td>\n",
       "      <td>37544.445885</td>\n",
       "    </tr>\n",
       "    <tr>\n",
       "      <th>min</th>\n",
       "      <td>1.001020e+09</td>\n",
       "      <td>0.000000</td>\n",
       "      <td>1.000000</td>\n",
       "      <td>0.000000</td>\n",
       "      <td>0.000000</td>\n",
       "      <td>0.000000</td>\n",
       "      <td>0.000000</td>\n",
       "      <td>2499.000000</td>\n",
       "    </tr>\n",
       "    <tr>\n",
       "      <th>25%</th>\n",
       "      <td>1.212708e+10</td>\n",
       "      <td>1.000000</td>\n",
       "      <td>2899.000000</td>\n",
       "      <td>1108.000000</td>\n",
       "      <td>0.000000</td>\n",
       "      <td>0.000000</td>\n",
       "      <td>6.500000</td>\n",
       "      <td>51484.000000</td>\n",
       "    </tr>\n",
       "    <tr>\n",
       "      <th>50%</th>\n",
       "      <td>2.712979e+10</td>\n",
       "      <td>1.000000</td>\n",
       "      <td>4011.000000</td>\n",
       "      <td>1525.000000</td>\n",
       "      <td>0.000000</td>\n",
       "      <td>0.000000</td>\n",
       "      <td>12.000000</td>\n",
       "      <td>68821.000000</td>\n",
       "    </tr>\n",
       "    <tr>\n",
       "      <th>75%</th>\n",
       "      <td>4.103900e+10</td>\n",
       "      <td>1.000000</td>\n",
       "      <td>5330.500000</td>\n",
       "      <td>2021.000000</td>\n",
       "      <td>0.000000</td>\n",
       "      <td>1.000000</td>\n",
       "      <td>20.600000</td>\n",
       "      <td>93868.500000</td>\n",
       "    </tr>\n",
       "    <tr>\n",
       "      <th>max</th>\n",
       "      <td>5.604595e+10</td>\n",
       "      <td>1.000000</td>\n",
       "      <td>37452.000000</td>\n",
       "      <td>16043.000000</td>\n",
       "      <td>1.000000</td>\n",
       "      <td>1.000000</td>\n",
       "      <td>100.000000</td>\n",
       "      <td>250001.000000</td>\n",
       "    </tr>\n",
       "  </tbody>\n",
       "</table>\n",
       "</div>"
      ],
      "text/plain": [
       "        CensusTract         Urban       Pop2010       OHU2010  \\\n",
       "count  7.253100e+04  72531.000000  72531.000000  72531.000000   \n",
       "mean   2.782573e+10      0.760626   4256.739022   1609.191821   \n",
       "std    1.581647e+10      0.426704   1955.987626    725.676046   \n",
       "min    1.001020e+09      0.000000      1.000000      0.000000   \n",
       "25%    1.212708e+10      1.000000   2899.000000   1108.000000   \n",
       "50%    2.712979e+10      1.000000   4011.000000   1525.000000   \n",
       "75%    4.103900e+10      1.000000   5330.500000   2021.000000   \n",
       "max    5.604595e+10      1.000000  37452.000000  16043.000000   \n",
       "\n",
       "       GroupQuartersFlag  LowIncomeTracts   PovertyRate  MedianFamilyIncome  \n",
       "count       72531.000000     72531.000000  72528.000000        71783.000000  \n",
       "mean            0.007114         0.417573     15.183864        77037.792249  \n",
       "std             0.084046         0.493162     11.919903        37544.445885  \n",
       "min             0.000000         0.000000      0.000000         2499.000000  \n",
       "25%             0.000000         0.000000      6.500000        51484.000000  \n",
       "50%             0.000000         0.000000     12.000000        68821.000000  \n",
       "75%             0.000000         1.000000     20.600000        93868.500000  \n",
       "max             1.000000         1.000000    100.000000       250001.000000  "
      ]
     },
     "execution_count": 13,
     "metadata": {},
     "output_type": "execute_result"
    }
   ],
   "source": [
    "# Statistical info\n",
    "\n",
    "dfK.describe()"
   ]
  },
  {
   "cell_type": "code",
   "execution_count": 14,
   "metadata": {},
   "outputs": [
    {
     "data": {
      "text/html": [
       "<div>\n",
       "<style scoped>\n",
       "    .dataframe tbody tr th:only-of-type {\n",
       "        vertical-align: middle;\n",
       "    }\n",
       "\n",
       "    .dataframe tbody tr th {\n",
       "        vertical-align: top;\n",
       "    }\n",
       "\n",
       "    .dataframe thead th {\n",
       "        text-align: right;\n",
       "    }\n",
       "</style>\n",
       "<table border=\"1\" class=\"dataframe\">\n",
       "  <thead>\n",
       "    <tr style=\"text-align: right;\">\n",
       "      <th></th>\n",
       "      <th>CensusTract</th>\n",
       "      <th>State</th>\n",
       "      <th>County</th>\n",
       "      <th>Urban</th>\n",
       "      <th>Pop2010</th>\n",
       "      <th>OHU2010</th>\n",
       "      <th>GroupQuartersFlag</th>\n",
       "      <th>LowIncomeTracts</th>\n",
       "      <th>PovertyRate</th>\n",
       "      <th>MedianFamilyIncome</th>\n",
       "    </tr>\n",
       "  </thead>\n",
       "  <tbody>\n",
       "    <tr>\n",
       "      <th>0</th>\n",
       "      <td>1001020100</td>\n",
       "      <td>Alabama</td>\n",
       "      <td>Autauga County</td>\n",
       "      <td>1</td>\n",
       "      <td>1912</td>\n",
       "      <td>693</td>\n",
       "      <td>0</td>\n",
       "      <td>0</td>\n",
       "      <td>11.3</td>\n",
       "      <td>81250.0</td>\n",
       "    </tr>\n",
       "    <tr>\n",
       "      <th>1</th>\n",
       "      <td>1001020200</td>\n",
       "      <td>Alabama</td>\n",
       "      <td>Autauga County</td>\n",
       "      <td>1</td>\n",
       "      <td>2170</td>\n",
       "      <td>743</td>\n",
       "      <td>0</td>\n",
       "      <td>1</td>\n",
       "      <td>17.9</td>\n",
       "      <td>49000.0</td>\n",
       "    </tr>\n",
       "    <tr>\n",
       "      <th>2</th>\n",
       "      <td>1001020300</td>\n",
       "      <td>Alabama</td>\n",
       "      <td>Autauga County</td>\n",
       "      <td>1</td>\n",
       "      <td>3373</td>\n",
       "      <td>1256</td>\n",
       "      <td>0</td>\n",
       "      <td>0</td>\n",
       "      <td>15.0</td>\n",
       "      <td>62609.0</td>\n",
       "    </tr>\n",
       "    <tr>\n",
       "      <th>3</th>\n",
       "      <td>1001020400</td>\n",
       "      <td>Alabama</td>\n",
       "      <td>Autauga County</td>\n",
       "      <td>1</td>\n",
       "      <td>4386</td>\n",
       "      <td>1722</td>\n",
       "      <td>0</td>\n",
       "      <td>0</td>\n",
       "      <td>2.8</td>\n",
       "      <td>70607.0</td>\n",
       "    </tr>\n",
       "    <tr>\n",
       "      <th>4</th>\n",
       "      <td>1001020500</td>\n",
       "      <td>Alabama</td>\n",
       "      <td>Autauga County</td>\n",
       "      <td>1</td>\n",
       "      <td>10766</td>\n",
       "      <td>4082</td>\n",
       "      <td>0</td>\n",
       "      <td>0</td>\n",
       "      <td>15.2</td>\n",
       "      <td>96334.0</td>\n",
       "    </tr>\n",
       "  </tbody>\n",
       "</table>\n",
       "</div>"
      ],
      "text/plain": [
       "   CensusTract    State          County  Urban  Pop2010  OHU2010  \\\n",
       "0   1001020100  Alabama  Autauga County      1     1912      693   \n",
       "1   1001020200  Alabama  Autauga County      1     2170      743   \n",
       "2   1001020300  Alabama  Autauga County      1     3373     1256   \n",
       "3   1001020400  Alabama  Autauga County      1     4386     1722   \n",
       "4   1001020500  Alabama  Autauga County      1    10766     4082   \n",
       "\n",
       "   GroupQuartersFlag  LowIncomeTracts  PovertyRate  MedianFamilyIncome  \n",
       "0                  0                0         11.3             81250.0  \n",
       "1                  0                1         17.9             49000.0  \n",
       "2                  0                0         15.0             62609.0  \n",
       "3                  0                0          2.8             70607.0  \n",
       "4                  0                0         15.2             96334.0  "
      ]
     },
     "execution_count": 14,
     "metadata": {},
     "output_type": "execute_result"
    }
   ],
   "source": [
    "# Sanity checks\n",
    "\n",
    "dfK.head()"
   ]
  },
  {
   "cell_type": "code",
   "execution_count": 15,
   "metadata": {},
   "outputs": [
    {
     "data": {
      "text/html": [
       "<div>\n",
       "<style scoped>\n",
       "    .dataframe tbody tr th:only-of-type {\n",
       "        vertical-align: middle;\n",
       "    }\n",
       "\n",
       "    .dataframe tbody tr th {\n",
       "        vertical-align: top;\n",
       "    }\n",
       "\n",
       "    .dataframe thead th {\n",
       "        text-align: right;\n",
       "    }\n",
       "</style>\n",
       "<table border=\"1\" class=\"dataframe\">\n",
       "  <thead>\n",
       "    <tr style=\"text-align: right;\">\n",
       "      <th></th>\n",
       "      <th>CensusTract</th>\n",
       "      <th>State</th>\n",
       "      <th>County</th>\n",
       "      <th>Urban</th>\n",
       "      <th>Pop2010</th>\n",
       "      <th>OHU2010</th>\n",
       "      <th>GroupQuartersFlag</th>\n",
       "      <th>LowIncomeTracts</th>\n",
       "      <th>PovertyRate</th>\n",
       "      <th>MedianFamilyIncome</th>\n",
       "    </tr>\n",
       "  </thead>\n",
       "  <tbody>\n",
       "    <tr>\n",
       "      <th>72526</th>\n",
       "      <td>56043000200</td>\n",
       "      <td>Wyoming</td>\n",
       "      <td>Washakie County</td>\n",
       "      <td>0</td>\n",
       "      <td>3326</td>\n",
       "      <td>1317</td>\n",
       "      <td>0</td>\n",
       "      <td>0</td>\n",
       "      <td>9.7</td>\n",
       "      <td>67254.0</td>\n",
       "    </tr>\n",
       "    <tr>\n",
       "      <th>72527</th>\n",
       "      <td>56043000301</td>\n",
       "      <td>Wyoming</td>\n",
       "      <td>Washakie County</td>\n",
       "      <td>1</td>\n",
       "      <td>2665</td>\n",
       "      <td>1154</td>\n",
       "      <td>0</td>\n",
       "      <td>0</td>\n",
       "      <td>11.6</td>\n",
       "      <td>64152.0</td>\n",
       "    </tr>\n",
       "    <tr>\n",
       "      <th>72528</th>\n",
       "      <td>56043000302</td>\n",
       "      <td>Wyoming</td>\n",
       "      <td>Washakie County</td>\n",
       "      <td>1</td>\n",
       "      <td>2542</td>\n",
       "      <td>1021</td>\n",
       "      <td>0</td>\n",
       "      <td>0</td>\n",
       "      <td>16.3</td>\n",
       "      <td>69605.0</td>\n",
       "    </tr>\n",
       "    <tr>\n",
       "      <th>72529</th>\n",
       "      <td>56045951100</td>\n",
       "      <td>Wyoming</td>\n",
       "      <td>Weston County</td>\n",
       "      <td>0</td>\n",
       "      <td>3314</td>\n",
       "      <td>1322</td>\n",
       "      <td>0</td>\n",
       "      <td>0</td>\n",
       "      <td>17.5</td>\n",
       "      <td>74500.0</td>\n",
       "    </tr>\n",
       "    <tr>\n",
       "      <th>72530</th>\n",
       "      <td>56045951300</td>\n",
       "      <td>Wyoming</td>\n",
       "      <td>Weston County</td>\n",
       "      <td>1</td>\n",
       "      <td>3894</td>\n",
       "      <td>1699</td>\n",
       "      <td>0</td>\n",
       "      <td>0</td>\n",
       "      <td>17.3</td>\n",
       "      <td>76838.0</td>\n",
       "    </tr>\n",
       "  </tbody>\n",
       "</table>\n",
       "</div>"
      ],
      "text/plain": [
       "       CensusTract    State           County  Urban  Pop2010  OHU2010  \\\n",
       "72526  56043000200  Wyoming  Washakie County      0     3326     1317   \n",
       "72527  56043000301  Wyoming  Washakie County      1     2665     1154   \n",
       "72528  56043000302  Wyoming  Washakie County      1     2542     1021   \n",
       "72529  56045951100  Wyoming    Weston County      0     3314     1322   \n",
       "72530  56045951300  Wyoming    Weston County      1     3894     1699   \n",
       "\n",
       "       GroupQuartersFlag  LowIncomeTracts  PovertyRate  MedianFamilyIncome  \n",
       "72526                  0                0          9.7             67254.0  \n",
       "72527                  0                0         11.6             64152.0  \n",
       "72528                  0                0         16.3             69605.0  \n",
       "72529                  0                0         17.5             74500.0  \n",
       "72530                  0                0         17.3             76838.0  "
      ]
     },
     "execution_count": 15,
     "metadata": {},
     "output_type": "execute_result"
    }
   ],
   "source": [
    "dfK.tail()"
   ]
  },
  {
   "cell_type": "code",
   "execution_count": 16,
   "metadata": {},
   "outputs": [
    {
     "data": {
      "text/plain": [
       "Index(['CensusTract', 'State', 'County', 'Urban', 'Pop2010', 'OHU2010',\n",
       "       'GroupQuartersFlag', 'LowIncomeTracts', 'PovertyRate',\n",
       "       'MedianFamilyIncome'],\n",
       "      dtype='object')"
      ]
     },
     "execution_count": 16,
     "metadata": {},
     "output_type": "execute_result"
    }
   ],
   "source": [
    "dfK.columns"
   ]
  },
  {
   "cell_type": "code",
   "execution_count": 17,
   "metadata": {},
   "outputs": [
    {
     "name": "stdout",
     "output_type": "stream",
     "text": [
      "COLUMN CLASSIFICATIONS:\n",
      " - CensusTract: Discrete\n",
      " - State: Categorical\n",
      " - County: Categorical\n",
      " - Urban: Discrete\n",
      " - Pop2010: Discrete\n",
      " - OHU2010: Discrete\n",
      " - GroupQuartersFlag: Discrete\n",
      " - LowIncomeTracts: Discrete\n",
      " - PovertyRate: Continuous\n",
      " - MedianFamilyIncome: Continuous\n"
     ]
    }
   ],
   "source": [
    "print('COLUMN CLASSIFICATIONS:')\n",
    "column_classifications = {}\n",
    "\n",
    "for column in dfK.columns:\n",
    "    if dfK[column].dtype == 'object':\n",
    "        column_classifications[column] = 'Categorical'\n",
    "    elif dfK[column].dtype == 'int64':\n",
    "        column_classifications[column] = 'Discrete'\n",
    "    elif dfK[column].dtype == 'float64':\n",
    "        column_classifications[column] = 'Continuous'\n",
    "    elif dfK[column].dtype == 'datetime64[ns]':\n",
    "        column_classifications[column] = 'Ordinal'\n",
    "\n",
    "for column, classification in column_classifications.items():\n",
    "    print(f' - {column}: {classification}')"
   ]
  },
  {
   "cell_type": "code",
   "execution_count": 18,
   "metadata": {},
   "outputs": [
    {
     "name": "stdout",
     "output_type": "stream",
     "text": [
      "Statistics for CensusTract:\n",
      " - Count: 72531.0\n",
      " - Mean: 27825725184.964565\n",
      " - Standard Deviation: 15816468002.020475\n",
      " - Minimum: 1001020100.0\n",
      " - 25th Percentile: 12127082604.5\n",
      " - Median (50th Percentile): 27129790500.0\n",
      " - 75th Percentile: 41039000351.0\n",
      " - Maximum: 56045951300.0\n",
      "\n",
      "Statistics for Urban:\n",
      " - Count: 72531.0\n",
      " - Mean: 0.7606264907418897\n",
      " - Standard Deviation: 0.4267040457367971\n",
      " - Minimum: 0.0\n",
      " - 25th Percentile: 1.0\n",
      " - Median (50th Percentile): 1.0\n",
      " - 75th Percentile: 1.0\n",
      " - Maximum: 1.0\n",
      "\n",
      "Statistics for Pop2010:\n",
      " - Count: 72531.0\n",
      " - Mean: 4256.739021935448\n",
      " - Standard Deviation: 1955.987626373357\n",
      " - Minimum: 1.0\n",
      " - 25th Percentile: 2899.0\n",
      " - Median (50th Percentile): 4011.0\n",
      " - 75th Percentile: 5330.5\n",
      " - Maximum: 37452.0\n",
      "\n",
      "Statistics for OHU2010:\n",
      " - Count: 72531.0\n",
      " - Mean: 1609.191821428079\n",
      " - Standard Deviation: 725.6760462418302\n",
      " - Minimum: 0.0\n",
      " - 25th Percentile: 1108.0\n",
      " - Median (50th Percentile): 1525.0\n",
      " - 75th Percentile: 2021.0\n",
      " - Maximum: 16043.0\n",
      "\n",
      "Statistics for GroupQuartersFlag:\n",
      " - Count: 72531.0\n",
      " - Mean: 0.007114199445754229\n",
      " - Standard Deviation: 0.08404573160182147\n",
      " - Minimum: 0.0\n",
      " - 25th Percentile: 0.0\n",
      " - Median (50th Percentile): 0.0\n",
      " - 75th Percentile: 0.0\n",
      " - Maximum: 1.0\n",
      "\n",
      "Statistics for LowIncomeTracts:\n",
      " - Count: 72531.0\n",
      " - Mean: 0.4175731756076712\n",
      " - Standard Deviation: 0.4931624192861763\n",
      " - Minimum: 0.0\n",
      " - 25th Percentile: 0.0\n",
      " - Median (50th Percentile): 0.0\n",
      " - 75th Percentile: 1.0\n",
      " - Maximum: 1.0\n",
      "\n",
      "Statistics for PovertyRate:\n",
      " - Count: 72528.0\n",
      " - Mean: 15.18386416280609\n",
      " - Standard Deviation: 11.919902866968169\n",
      " - Minimum: 0.0\n",
      " - 25th Percentile: 6.5\n",
      " - Median (50th Percentile): 12.0\n",
      " - 75th Percentile: 20.6\n",
      " - Maximum: 100.0\n",
      "\n",
      "Statistics for MedianFamilyIncome:\n",
      " - Count: 71783.0\n",
      " - Mean: 77037.79224886115\n",
      " - Standard Deviation: 37544.44588454768\n",
      " - Minimum: 2499.0\n",
      " - 25th Percentile: 51484.0\n",
      " - Median (50th Percentile): 68821.0\n",
      " - 75th Percentile: 93868.5\n",
      " - Maximum: 250001.0\n",
      "\n"
     ]
    }
   ],
   "source": [
    "# Statistics per column\n",
    "for column in dfK.columns:\n",
    "    data_type = dfK[column].dtype\n",
    "    \n",
    "    # For quantitative data\n",
    "    if data_type in ['int64', 'float64']:\n",
    "        stats = dfK[column].describe()\n",
    "        \n",
    "        print(f\"Statistics for {column}:\")\n",
    "        print(f\" - Count: {stats['count']}\")\n",
    "        print(f\" - Mean: {stats['mean']}\")\n",
    "        print(f\" - Standard Deviation: {stats['std']}\")\n",
    "        print(f\" - Minimum: {stats['min']}\")\n",
    "        print(f\" - 25th Percentile: {stats['25%']}\")\n",
    "        print(f\" - Median (50th Percentile): {stats['50%']}\")\n",
    "        print(f\" - 75th Percentile: {stats['75%']}\")\n",
    "        print(f\" - Maximum: {stats['max']}\")\n",
    "        print()"
   ]
  },
  {
   "cell_type": "code",
   "execution_count": 19,
   "metadata": {},
   "outputs": [
    {
     "name": "stdout",
     "output_type": "stream",
     "text": [
      "Discrete values for State: ['Alabama' 'Alaska' 'Arizona' 'Arkansas' 'California' 'Colorado'\n",
      " 'Connecticut' 'Delaware' 'District of Columbia' 'Florida' 'Georgia'\n",
      " 'Hawaii' 'Idaho' 'Illinois' 'Indiana' 'Iowa' 'Kansas' 'Kentucky'\n",
      " 'Louisiana' 'Maine' 'Maryland' 'Massachusetts' 'Michigan' 'Minnesota'\n",
      " 'Mississippi' 'Missouri' 'Montana' 'Nebraska' 'Nevada' 'New Hampshire'\n",
      " 'New Jersey' 'New Mexico' 'New York' 'North Carolina' 'North Dakota'\n",
      " 'Ohio' 'Oklahoma' 'Oregon' 'Pennsylvania' 'Rhode Island' 'South Carolina'\n",
      " 'South Dakota' 'Tennessee' 'Texas' 'Utah' 'Vermont' 'Virginia'\n",
      " 'Washington' 'West Virginia' 'Wisconsin' 'Wyoming']\n",
      "Distribution of State:\n",
      "California              8024\n",
      "Texas                   5238\n",
      "New York                4870\n",
      "Florida                 4182\n",
      "Pennsylvania            3210\n",
      "Illinois                3115\n",
      "Ohio                    2943\n",
      "Michigan                2756\n",
      "North Carolina          2175\n",
      "New Jersey              2002\n",
      "Georgia                 1957\n",
      "Virginia                1886\n",
      "Arizona                 1520\n",
      "Indiana                 1507\n",
      "Tennessee               1489\n",
      "Massachusetts           1467\n",
      "Washington              1445\n",
      "Wisconsin               1392\n",
      "Missouri                1391\n",
      "Maryland                1390\n",
      "Minnesota               1334\n",
      "Colorado                1242\n",
      "Alabama                 1178\n",
      "Louisiana               1129\n",
      "Kentucky                1110\n",
      "South Carolina          1091\n",
      "Oklahoma                1046\n",
      "Connecticut              828\n",
      "Oregon                   826\n",
      "Iowa                     823\n",
      "Kansas                   766\n",
      "Arkansas                 686\n",
      "Nevada                   680\n",
      "Mississippi              659\n",
      "Utah                     585\n",
      "Nebraska                 532\n",
      "New Mexico               498\n",
      "West Virginia            484\n",
      "Maine                    351\n",
      "Hawaii                   321\n",
      "Idaho                    298\n",
      "New Hampshire            292\n",
      "Montana                  271\n",
      "Rhode Island             241\n",
      "South Dakota             222\n",
      "Delaware                 214\n",
      "North Dakota             205\n",
      "Vermont                  183\n",
      "District of Columbia     179\n",
      "Alaska                   167\n",
      "Wyoming                  131\n",
      "Name: State, dtype: int64\n",
      "Mode of State: California\n",
      "\n",
      "Discrete values for County: ['Autauga County' 'Baldwin County' 'Barbour County' ... 'Uinta County'\n",
      " 'Washakie County' 'Weston County']\n",
      "Distribution of County:\n",
      "Los Angeles County     2334\n",
      "Cook County            1320\n",
      "Orange County           937\n",
      "Maricopa County         913\n",
      "Montgomery County       832\n",
      "                       ... \n",
      "Dolores County            1\n",
      "Crowley County            1\n",
      "Hodgeman County           1\n",
      "Kearny County             1\n",
      "Powder River County       1\n",
      "Name: County, Length: 1877, dtype: int64\n",
      "Mode of County: Los Angeles County\n",
      "\n"
     ]
    }
   ],
   "source": [
    "for column in dfK.columns:\n",
    "    data_type = dfK[column].dtype\n",
    "    \n",
    "    # For categorical data\n",
    "    if data_type == 'object':\n",
    "        # Find discrete values\n",
    "        discrete_values = dfK[column].unique()\n",
    "        print(f\"Discrete values for {column}: {discrete_values}\")\n",
    "        \n",
    "        # Find distribution and mode\n",
    "        distribution = dfK[column].value_counts()\n",
    "        mode = distribution.idxmax()\n",
    "        print(f\"Distribution of {column}:\\n{distribution}\")\n",
    "        print(f\"Mode of {column}: {mode}\\n\")"
   ]
  },
  {
   "cell_type": "markdown",
   "metadata": {},
   "source": [
    "# Data Wrangling"
   ]
  },
  {
   "cell_type": "markdown",
   "metadata": {},
   "source": [
    "## SNAP DATASET"
   ]
  },
  {
   "cell_type": "code",
   "execution_count": 20,
   "metadata": {
    "tags": []
   },
   "outputs": [],
   "source": [
    "# Correcting possible typo\n",
    "df.at[13, 'Fiscal Year'] = 1982"
   ]
  },
  {
   "cell_type": "code",
   "execution_count": 21,
   "metadata": {
    "tags": []
   },
   "outputs": [],
   "source": [
    "# Removing commas from data\n",
    "df = df.replace(',','', regex = True)"
   ]
  },
  {
   "cell_type": "code",
   "execution_count": 22,
   "metadata": {
    "tags": []
   },
   "outputs": [
    {
     "data": {
      "text/plain": [
       "Fiscal Year                    object\n",
       "Average Participation          object\n",
       "Average Benefit Per Person    float64\n",
       "Total Benefits(M)              object\n",
       "Other Costs                    object\n",
       "Total Costs(M)                 object\n",
       "dtype: object"
      ]
     },
     "execution_count": 22,
     "metadata": {},
     "output_type": "execute_result"
    }
   ],
   "source": [
    "# Checking data types\n",
    "df.dtypes"
   ]
  },
  {
   "cell_type": "code",
   "execution_count": 23,
   "metadata": {
    "tags": []
   },
   "outputs": [],
   "source": [
    "# Converting all columns to numeric values\n",
    "df = df.apply(pd.to_numeric)"
   ]
  },
  {
   "cell_type": "code",
   "execution_count": 24,
   "metadata": {
    "tags": []
   },
   "outputs": [],
   "source": [
    "# Converting Fiscal Year to date\n",
    "df['Fiscal Year'] = pd.to_datetime(df['Fiscal Year'], format = '%Y' )"
   ]
  },
  {
   "cell_type": "code",
   "execution_count": 25,
   "metadata": {
    "tags": []
   },
   "outputs": [],
   "source": [
    "# Creating long dataframe for stacked bar chart\n",
    "df2_snap = pd.melt(df, id_vars = 'Fiscal Year', value_vars = ['Total Benefits(M)', 'Other Costs'])"
   ]
  },
  {
   "cell_type": "code",
   "execution_count": 26,
   "metadata": {
    "tags": []
   },
   "outputs": [],
   "source": [
    "# Renaming columns in long dataframe\n",
    "df2_snap.rename(columns = {'variable':'Category'}, inplace = True)"
   ]
  },
  {
   "cell_type": "code",
   "execution_count": 27,
   "metadata": {},
   "outputs": [
    {
     "name": "stdout",
     "output_type": "stream",
     "text": [
      "<class 'pandas.core.frame.DataFrame'>\n",
      "RangeIndex: 102 entries, 0 to 101\n",
      "Data columns (total 3 columns):\n",
      " #   Column       Non-Null Count  Dtype         \n",
      "---  ------       --------------  -----         \n",
      " 0   Fiscal Year  102 non-null    datetime64[ns]\n",
      " 1   Category     102 non-null    object        \n",
      " 2   value        102 non-null    float64       \n",
      "dtypes: datetime64[ns](1), float64(1), object(1)\n",
      "memory usage: 2.5+ KB\n"
     ]
    }
   ],
   "source": [
    "df2_snap.info()"
   ]
  },
  {
   "cell_type": "code",
   "execution_count": 28,
   "metadata": {},
   "outputs": [
    {
     "data": {
      "text/html": [
       "<div>\n",
       "<style scoped>\n",
       "    .dataframe tbody tr th:only-of-type {\n",
       "        vertical-align: middle;\n",
       "    }\n",
       "\n",
       "    .dataframe tbody tr th {\n",
       "        vertical-align: top;\n",
       "    }\n",
       "\n",
       "    .dataframe thead th {\n",
       "        text-align: right;\n",
       "    }\n",
       "</style>\n",
       "<table border=\"1\" class=\"dataframe\">\n",
       "  <thead>\n",
       "    <tr style=\"text-align: right;\">\n",
       "      <th></th>\n",
       "      <th>value</th>\n",
       "    </tr>\n",
       "  </thead>\n",
       "  <tbody>\n",
       "    <tr>\n",
       "      <th>count</th>\n",
       "      <td>102.000000</td>\n",
       "    </tr>\n",
       "    <tr>\n",
       "      <th>mean</th>\n",
       "      <td>13474.715196</td>\n",
       "    </tr>\n",
       "    <tr>\n",
       "      <th>std</th>\n",
       "      <td>20127.211967</td>\n",
       "    </tr>\n",
       "    <tr>\n",
       "      <th>min</th>\n",
       "      <td>21.700000</td>\n",
       "    </tr>\n",
       "    <tr>\n",
       "      <th>25%</th>\n",
       "      <td>1531.190000</td>\n",
       "    </tr>\n",
       "    <tr>\n",
       "      <th>50%</th>\n",
       "      <td>3968.555000</td>\n",
       "    </tr>\n",
       "    <tr>\n",
       "      <th>75%</th>\n",
       "      <td>16610.217500</td>\n",
       "    </tr>\n",
       "    <tr>\n",
       "      <th>max</th>\n",
       "      <td>76066.320000</td>\n",
       "    </tr>\n",
       "  </tbody>\n",
       "</table>\n",
       "</div>"
      ],
      "text/plain": [
       "              value\n",
       "count    102.000000\n",
       "mean   13474.715196\n",
       "std    20127.211967\n",
       "min       21.700000\n",
       "25%     1531.190000\n",
       "50%     3968.555000\n",
       "75%    16610.217500\n",
       "max    76066.320000"
      ]
     },
     "execution_count": 28,
     "metadata": {},
     "output_type": "execute_result"
    }
   ],
   "source": [
    "df2_snap.describe()"
   ]
  },
  {
   "cell_type": "code",
   "execution_count": 29,
   "metadata": {},
   "outputs": [
    {
     "data": {
      "text/plain": [
       "Index(['Fiscal Year', 'Category', 'value'], dtype='object')"
      ]
     },
     "execution_count": 29,
     "metadata": {},
     "output_type": "execute_result"
    }
   ],
   "source": [
    "df2_snap.columns"
   ]
  },
  {
   "cell_type": "markdown",
   "metadata": {},
   "source": [
    "## KAGGLE FOOD ACCESS DATASET"
   ]
  },
  {
   "cell_type": "code",
   "execution_count": 30,
   "metadata": {},
   "outputs": [
    {
     "name": "stdout",
     "output_type": "stream",
     "text": [
      "CensusTract\n",
      "False    72531\n",
      "Name: CensusTract, dtype: int64\n",
      " \n",
      "State\n",
      "False    72531\n",
      "Name: State, dtype: int64\n",
      " \n",
      "County\n",
      "False    72531\n",
      "Name: County, dtype: int64\n",
      " \n",
      "Urban\n",
      "False    72531\n",
      "Name: Urban, dtype: int64\n",
      " \n",
      "Pop2010\n",
      "False    72531\n",
      "Name: Pop2010, dtype: int64\n",
      " \n",
      "OHU2010\n",
      "False    72531\n",
      "Name: OHU2010, dtype: int64\n",
      " \n",
      "GroupQuartersFlag\n",
      "False    72531\n",
      "Name: GroupQuartersFlag, dtype: int64\n",
      " \n",
      "LowIncomeTracts\n",
      "False    72531\n",
      "Name: LowIncomeTracts, dtype: int64\n",
      " \n",
      "PovertyRate\n",
      "False    72528\n",
      "True         3\n",
      "Name: PovertyRate, dtype: int64\n",
      " \n",
      "MedianFamilyIncome\n",
      "False    71783\n",
      "True       748\n",
      "Name: MedianFamilyIncome, dtype: int64\n",
      " \n"
     ]
    }
   ],
   "source": [
    "# Find number of missing values in each column\n",
    "\n",
    "missing_dataK = dfK.isnull()\n",
    "for column in missing_dataK.columns.values.tolist():\n",
    "    print(column)\n",
    "    print(missing_dataK[column].value_counts())\n",
    "    print(' ')"
   ]
  },
  {
   "cell_type": "code",
   "execution_count": 31,
   "metadata": {},
   "outputs": [
    {
     "name": "stdout",
     "output_type": "stream",
     "text": [
      "15.18386416280609\n",
      "<class 'pandas.core.frame.DataFrame'>\n",
      "RangeIndex: 72531 entries, 0 to 72530\n",
      "Data columns (total 10 columns):\n",
      " #   Column              Non-Null Count  Dtype  \n",
      "---  ------              --------------  -----  \n",
      " 0   CensusTract         72531 non-null  int64  \n",
      " 1   State               72531 non-null  object \n",
      " 2   County              72531 non-null  object \n",
      " 3   Urban               72531 non-null  int64  \n",
      " 4   Pop2010             72531 non-null  int64  \n",
      " 5   OHU2010             72531 non-null  int64  \n",
      " 6   GroupQuartersFlag   72531 non-null  int64  \n",
      " 7   LowIncomeTracts     72531 non-null  int64  \n",
      " 8   PovertyRate         72531 non-null  float64\n",
      " 9   MedianFamilyIncome  71783 non-null  float64\n",
      "dtypes: float64(2), int64(6), object(2)\n",
      "memory usage: 5.5+ MB\n"
     ]
    }
   ],
   "source": [
    "# Find mean Poverty Rate, replace the 3 missing Poverty Rate values with that mean\n",
    "\n",
    "mean_pov = dfK['PovertyRate'].astype('float').mean(axis = 0)\n",
    "print(mean_pov)\n",
    "\n",
    "dfK['PovertyRate'].replace(np.nan, mean_pov, inplace = True)\n",
    "dfK.info()"
   ]
  },
  {
   "cell_type": "code",
   "execution_count": 32,
   "metadata": {},
   "outputs": [
    {
     "name": "stdout",
     "output_type": "stream",
     "text": [
      "68821.0\n",
      "<class 'pandas.core.frame.DataFrame'>\n",
      "RangeIndex: 72531 entries, 0 to 72530\n",
      "Data columns (total 10 columns):\n",
      " #   Column              Non-Null Count  Dtype  \n",
      "---  ------              --------------  -----  \n",
      " 0   CensusTract         72531 non-null  int64  \n",
      " 1   State               72531 non-null  object \n",
      " 2   County              72531 non-null  object \n",
      " 3   Urban               72531 non-null  int64  \n",
      " 4   Pop2010             72531 non-null  int64  \n",
      " 5   OHU2010             72531 non-null  int64  \n",
      " 6   GroupQuartersFlag   72531 non-null  int64  \n",
      " 7   LowIncomeTracts     72531 non-null  int64  \n",
      " 8   PovertyRate         72531 non-null  float64\n",
      " 9   MedianFamilyIncome  72531 non-null  float64\n",
      "dtypes: float64(2), int64(6), object(2)\n",
      "memory usage: 5.5+ MB\n"
     ]
    }
   ],
   "source": [
    "# Find median Median Family Income, replace the 748 missing Family Income values with that median\n",
    "\n",
    "med_in = dfK['MedianFamilyIncome'].astype('float').median(axis = 0)\n",
    "print(med_in)\n",
    "\n",
    "dfK['MedianFamilyIncome'].replace(np.nan, med_in, inplace = True)\n",
    "dfK.info()"
   ]
  },
  {
   "cell_type": "code",
   "execution_count": 33,
   "metadata": {},
   "outputs": [
    {
     "name": "stdout",
     "output_type": "stream",
     "text": [
      "(72531, 10)\n",
      "(72531, 10)\n"
     ]
    }
   ],
   "source": [
    "# Drop duplicates, if same size as original there were no duplicates\n",
    "\n",
    "dfK_nodup = dfK.drop_duplicates()\n",
    "print(dfK.shape)\n",
    "print(dfK_nodup.shape)"
   ]
  },
  {
   "cell_type": "markdown",
   "metadata": {},
   "source": [
    "# Correlations & Linear Regression"
   ]
  },
  {
   "cell_type": "code",
   "execution_count": 34,
   "metadata": {
    "collapsed": true,
    "jupyter": {
     "outputs_hidden": true
    },
    "tags": []
   },
   "outputs": [
    {
     "name": "stderr",
     "output_type": "stream",
     "text": [
      "/Users/tanyaatrvash/opt/anaconda3/lib/python3.9/site-packages/scipy/__init__.py:155: UserWarning: A NumPy version >=1.18.5 and <1.25.0 is required for this version of SciPy (detected version 1.26.4\n",
      "  warnings.warn(f\"A NumPy version >={np_minversion} and <{np_maxversion}\"\n"
     ]
    }
   ],
   "source": [
    "from scipy import stats\n",
    "from sklearn.linear_model import LinearRegression\n",
    "import seaborn as sns"
   ]
  },
  {
   "cell_type": "markdown",
   "metadata": {},
   "source": [
    "## SNAP DATASET"
   ]
  },
  {
   "cell_type": "markdown",
   "metadata": {},
   "source": [
    "#### Average Participation and Total Benefits (M)"
   ]
  },
  {
   "cell_type": "code",
   "execution_count": 57,
   "metadata": {},
   "outputs": [
    {
     "name": "stdout",
     "output_type": "stream",
     "text": [
      "Average Participation vs Total Benefits (M):\n",
      "Correlation coefficient = 0.963941829098735 \n",
      "P-value = 7.909891469823231e-30\n",
      "\n",
      "The intercept of Average Participation vs. Total Benefits(M) is:  -24790.43867735602\n",
      "The slope of Average Participation vs. Total Benefits(M) is:  [2.03134966]\n"
     ]
    },
    {
     "data": {
      "image/png": "[encoded data removed]",
      "text/plain": [
       "<Figure size 640x480 with 1 Axes>"
      ]
     },
     "metadata": {},
     "output_type": "display_data"
    }
   ],
   "source": [
    "print('Average Participation vs Total Benefits (M):')\n",
    "p_coef, p_val = stats.pearsonr(df['Average Participation'], df['Total Benefits(M)'])\n",
    "print('Correlation coefficient =', p_coef, '\\nP-value =', p_val)\n",
    "\n",
    "lm = LinearRegression()\n",
    "\n",
    "X = df[['Average Participation']]\n",
    "Y = df['Total Benefits(M)']\n",
    "\n",
    "lm.fit (X, Y)\n",
    "\n",
    "Yhat = lm.predict(X)\n",
    "Yhat[0:5]\n",
    "\n",
    "# intercept\n",
    "print('\\nThe intercept of Average Participation vs. Total Benefits(M) is: ', lm.intercept_)\n",
    "\n",
    "# slope\n",
    "print('The slope of Average Participation vs. Total Benefits(M) is: ', lm.coef_)\n",
    "\n",
    "# display the data graphically\n",
    "sns.regplot(x = 'Average Participation', y = 'Total Benefits(M)', data = df)\n",
    "plt.title('Regression Plot: Average Participation vs Total Benefits')\n",
    "plt.show()"
   ]
  },
  {
   "cell_type": "markdown",
   "metadata": {
    "tags": []
   },
   "source": [
    "#### Average Participation and Average Benefit Per Person"
   ]
  },
  {
   "cell_type": "code",
   "execution_count": 56,
   "metadata": {},
   "outputs": [
    {
     "name": "stdout",
     "output_type": "stream",
     "text": [
      "Average Participation vs Average Benefit Per Person:\n",
      "Correlation coefficient = 0.9113695813649612 \n",
      "P-value = 1.591968115700338e-20\n",
      "\n",
      "The intercept of Average Participation vs. Average Benefit Per Person is:  -11.122862189861152\n",
      "The slope of Average Participation vs. Average Benefit Per Person is:  [0.00327103]\n"
     ]
    },
    {
     "data": {
      "image/png": "[encoded data removed]",
      "text/plain": [
       "<Figure size 640x480 with 1 Axes>"
      ]
     },
     "metadata": {},
     "output_type": "display_data"
    }
   ],
   "source": [
    "print('Average Participation vs Average Benefit Per Person:')\n",
    "p_coef, p_val = stats.pearsonr(df['Average Participation'], df['Average Benefit Per Person'])\n",
    "print('Correlation coefficient =', p_coef, '\\nP-value =', p_val)\n",
    "\n",
    "lm = LinearRegression()\n",
    "\n",
    "X = df[['Average Participation']]\n",
    "Y = df['Average Benefit Per Person']\n",
    "\n",
    "lm.fit (X, Y)\n",
    "\n",
    "Yhat = lm.predict(X)\n",
    "Yhat[0:5]\n",
    "\n",
    "# intercept\n",
    "print('\\nThe intercept of Average Participation vs. Average Benefit Per Person is: ', lm.intercept_)\n",
    "\n",
    "# slope\n",
    "print('The slope of Average Participation vs. Average Benefit Per Person is: ', lm.coef_)\n",
    "\n",
    "# display the data graphically\n",
    "sns.regplot(x = 'Average Participation', y = 'Average Benefit Per Person', data = df)\n",
    "plt.title('Regression Plot: Average Participation vs Average Benefit Per Person')\n",
    "plt.show()"
   ]
  },
  {
   "cell_type": "markdown",
   "metadata": {},
   "source": [
    "#### Average Participation and Other Costs"
   ]
  },
  {
   "cell_type": "code",
   "execution_count": 58,
   "metadata": {},
   "outputs": [
    {
     "name": "stdout",
     "output_type": "stream",
     "text": [
      "Average Participation vs Other Costs:\n",
      "Correlation coefficient = 0.888983738643004 \n",
      "P-value = 3.041328672863334e-18\n",
      "\n",
      "The intercept of Average Participation vs. Other Costs is:  -939.3404628774265\n",
      "The slope of Average Participation vs. Other Costs is:  [0.11490411]\n"
     ]
    },
    {
     "data": {
      "image/png": "[encoded data removed]",
      "text/plain": [
       "<Figure size 640x480 with 1 Axes>"
      ]
     },
     "metadata": {},
     "output_type": "display_data"
    }
   ],
   "source": [
    "print('Average Participation vs Other Costs:')\n",
    "p_coef, p_val = stats.pearsonr(df['Average Participation'], df['Other Costs'])\n",
    "print('Correlation coefficient =', p_coef, '\\nP-value =', p_val)\n",
    "\n",
    "lm = LinearRegression()\n",
    "\n",
    "X = df[['Average Participation']]\n",
    "Y = df['Other Costs']\n",
    "\n",
    "lm.fit (X, Y)\n",
    "\n",
    "Yhat = lm.predict(X)\n",
    "Yhat[0:5]\n",
    "\n",
    "# intercept\n",
    "print('\\nThe intercept of Average Participation vs. Other Costs is: ', lm.intercept_)\n",
    "\n",
    "# slope\n",
    "print('The slope of Average Participation vs. Other Costs is: ', lm.coef_)\n",
    "\n",
    "# display the data graphically\n",
    "sns.regplot(x = 'Average Participation', y = 'Other Costs', data = df)\n",
    "plt.title('Regression Plot: Average Participation vs Other Costs')\n",
    "plt.show()"
   ]
  },
  {
   "cell_type": "markdown",
   "metadata": {},
   "source": [
    "#### Average Participation and Total Costs(M)"
   ]
  },
  {
   "cell_type": "code",
   "execution_count": 59,
   "metadata": {},
   "outputs": [
    {
     "name": "stdout",
     "output_type": "stream",
     "text": [
      "Average Participation vs Total Costs(M):\n",
      "Correlation coefficient = 0.9630679583251485 \n",
      "P-value = 1.4080017403401601e-29\n",
      "\n",
      "The intercept of Average Participation vs. Total Costs(M) is:  -25729.780250865213\n",
      "The slope of Average Participation vs. Total Costs(M) is:  [2.1462538]\n"
     ]
    },
    {
     "data": {
      "image/png": "[encoded data removed]",
      "text/plain": [
       "<Figure size 640x480 with 1 Axes>"
      ]
     },
     "metadata": {},
     "output_type": "display_data"
    }
   ],
   "source": [
    "print('Average Participation vs Total Costs(M):')\n",
    "p_coef, p_val = stats.pearsonr(df['Average Participation'], df['Total Costs(M)'])\n",
    "print('Correlation coefficient =', p_coef, '\\nP-value =', p_val)\n",
    "\n",
    "lm = LinearRegression()\n",
    "\n",
    "X = df[['Average Participation']]\n",
    "Y = df['Total Costs(M)']\n",
    "\n",
    "lm.fit (X, Y)\n",
    "\n",
    "Yhat = lm.predict(X)\n",
    "Yhat[0:5]\n",
    "\n",
    "# intercept\n",
    "print('\\nThe intercept of Average Participation vs. Total Costs(M) is: ', lm.intercept_)\n",
    "\n",
    "# slope\n",
    "print('The slope of Average Participation vs. Total Costs(M) is: ', lm.coef_)\n",
    "\n",
    "# display the data graphically\n",
    "sns.regplot(x = 'Average Participation', y = 'Total Costs(M)', data = df)\n",
    "plt.title('Regression Plot: Average Participation vs Total Costs(M)')\n",
    "plt.show()"
   ]
  },
  {
   "cell_type": "markdown",
   "metadata": {},
   "source": [
    "### KAGGLE FOOD ACCESS DATASET"
   ]
  },
  {
   "cell_type": "code",
   "execution_count": 39,
   "metadata": {},
   "outputs": [
    {
     "data": {
      "text/html": [
       "<div>\n",
       "<style scoped>\n",
       "    .dataframe tbody tr th:only-of-type {\n",
       "        vertical-align: middle;\n",
       "    }\n",
       "\n",
       "    .dataframe tbody tr th {\n",
       "        vertical-align: top;\n",
       "    }\n",
       "\n",
       "    .dataframe thead th {\n",
       "        text-align: right;\n",
       "    }\n",
       "</style>\n",
       "<table border=\"1\" class=\"dataframe\">\n",
       "  <thead>\n",
       "    <tr style=\"text-align: right;\">\n",
       "      <th></th>\n",
       "      <th>LowIncomeTracts</th>\n",
       "      <th>MedianFamilyIncome</th>\n",
       "      <th>Pop2010</th>\n",
       "      <th>OHU2010</th>\n",
       "      <th>LowIncomeTracts</th>\n",
       "      <th>PovertyRate</th>\n",
       "    </tr>\n",
       "  </thead>\n",
       "  <tbody>\n",
       "    <tr>\n",
       "      <th>LowIncomeTracts</th>\n",
       "      <td>1.000000</td>\n",
       "      <td>-0.625876</td>\n",
       "      <td>-0.122379</td>\n",
       "      <td>-0.166781</td>\n",
       "      <td>1.000000</td>\n",
       "      <td>0.693983</td>\n",
       "    </tr>\n",
       "    <tr>\n",
       "      <th>MedianFamilyIncome</th>\n",
       "      <td>-0.625876</td>\n",
       "      <td>1.000000</td>\n",
       "      <td>0.108271</td>\n",
       "      <td>0.137656</td>\n",
       "      <td>-0.625876</td>\n",
       "      <td>-0.633772</td>\n",
       "    </tr>\n",
       "    <tr>\n",
       "      <th>Pop2010</th>\n",
       "      <td>-0.122379</td>\n",
       "      <td>0.108271</td>\n",
       "      <td>1.000000</td>\n",
       "      <td>0.897393</td>\n",
       "      <td>-0.122379</td>\n",
       "      <td>-0.142209</td>\n",
       "    </tr>\n",
       "    <tr>\n",
       "      <th>OHU2010</th>\n",
       "      <td>-0.166781</td>\n",
       "      <td>0.137656</td>\n",
       "      <td>0.897393</td>\n",
       "      <td>1.000000</td>\n",
       "      <td>-0.166781</td>\n",
       "      <td>-0.190724</td>\n",
       "    </tr>\n",
       "    <tr>\n",
       "      <th>LowIncomeTracts</th>\n",
       "      <td>1.000000</td>\n",
       "      <td>-0.625876</td>\n",
       "      <td>-0.122379</td>\n",
       "      <td>-0.166781</td>\n",
       "      <td>1.000000</td>\n",
       "      <td>0.693983</td>\n",
       "    </tr>\n",
       "    <tr>\n",
       "      <th>PovertyRate</th>\n",
       "      <td>0.693983</td>\n",
       "      <td>-0.633772</td>\n",
       "      <td>-0.142209</td>\n",
       "      <td>-0.190724</td>\n",
       "      <td>0.693983</td>\n",
       "      <td>1.000000</td>\n",
       "    </tr>\n",
       "  </tbody>\n",
       "</table>\n",
       "</div>"
      ],
      "text/plain": [
       "                    LowIncomeTracts  MedianFamilyIncome   Pop2010   OHU2010  \\\n",
       "LowIncomeTracts            1.000000           -0.625876 -0.122379 -0.166781   \n",
       "MedianFamilyIncome        -0.625876            1.000000  0.108271  0.137656   \n",
       "Pop2010                   -0.122379            0.108271  1.000000  0.897393   \n",
       "OHU2010                   -0.166781            0.137656  0.897393  1.000000   \n",
       "LowIncomeTracts            1.000000           -0.625876 -0.122379 -0.166781   \n",
       "PovertyRate                0.693983           -0.633772 -0.142209 -0.190724   \n",
       "\n",
       "                    LowIncomeTracts  PovertyRate  \n",
       "LowIncomeTracts            1.000000     0.693983  \n",
       "MedianFamilyIncome        -0.625876    -0.633772  \n",
       "Pop2010                   -0.122379    -0.142209  \n",
       "OHU2010                   -0.166781    -0.190724  \n",
       "LowIncomeTracts            1.000000     0.693983  \n",
       "PovertyRate                0.693983     1.000000  "
      ]
     },
     "execution_count": 39,
     "metadata": {},
     "output_type": "execute_result"
    }
   ],
   "source": [
    "# Correlate every column with every column\n",
    "\n",
    "dfK[[\"LowIncomeTracts\", \"MedianFamilyIncome\", \"Pop2010\", \"OHU2010\", \n",
    "     \"LowIncomeTracts\", \"PovertyRate\"]].corr()"
   ]
  },
  {
   "cell_type": "code",
   "execution_count": 40,
   "metadata": {},
   "outputs": [
    {
     "data": {
      "text/plain": [
       "<AxesSubplot:xlabel='Pop2010', ylabel='PovertyRate'>"
      ]
     },
     "execution_count": 40,
     "metadata": {},
     "output_type": "execute_result"
    },
    {
     "data": {
      "image/png": "[encoded data removed]",
      "text/plain": [
       "<Figure size 640x480 with 1 Axes>"
      ]
     },
     "metadata": {},
     "output_type": "display_data"
    }
   ],
   "source": [
    "# There are no very strong correlations in this dataset. Let's explore further:\n",
    "# Plotting Region Population in 2012 against Poverty Rate in the area\n",
    "\n",
    "sns.regplot(x=\"Pop2010\", y=\"PovertyRate\", data=dfK)"
   ]
  },
  {
   "cell_type": "code",
   "execution_count": 41,
   "metadata": {},
   "outputs": [
    {
     "data": {
      "text/plain": [
       "<AxesSubplot:xlabel='Pop2010', ylabel='PovertyRate'>"
      ]
     },
     "execution_count": 41,
     "metadata": {},
     "output_type": "execute_result"
    },
    {
     "data": {
      "image/png": "[encoded data removed]",
      "text/plain": [
       "<Figure size 640x480 with 1 Axes>"
      ]
     },
     "metadata": {},
     "output_type": "display_data"
    }
   ],
   "source": [
    "# Residual plot: is it a good fit, are there randomly scattered points? NO\n",
    "\n",
    "sns.residplot(x = dfK['Pop2010'], y = dfK['PovertyRate'])"
   ]
  },
  {
   "cell_type": "code",
   "execution_count": 42,
   "metadata": {},
   "outputs": [],
   "source": [
    "# We are struggling to find a clear linear relationship from this ^ data,\n",
    "# however we plan to use this data to constructive an interactive map of the USA."
   ]
  },
  {
   "cell_type": "markdown",
   "metadata": {},
   "source": [
    "# Visualizations"
   ]
  },
  {
   "cell_type": "code",
   "execution_count": 43,
   "metadata": {},
   "outputs": [
    {
     "data": {
      "text/html": [
       "\n",
       "<style>\n",
       "  #altair-viz-8eb3b580dbc4436e8700f7168472246c.vega-embed {\n",
       "    width: 100%;\n",
       "    display: flex;\n",
       "  }\n",
       "\n",
       "  #altair-viz-8eb3b580dbc4436e8700f7168472246c.vega-embed details,\n",
       "  #altair-viz-8eb3b580dbc4436e8700f7168472246c.vega-embed details summary {\n",
       "    position: relative;\n",
       "  }\n",
       "</style>\n",
       "<div id=\"altair-viz-8eb3b580dbc4436e8700f7168472246c\"></div>\n",
       "<script type=\"text/javascript\">\n",
       "  var VEGA_DEBUG = (typeof VEGA_DEBUG == \"undefined\") ? {} : VEGA_DEBUG;\n",
       "  (function(spec, embedOpt){\n",
       "    let outputDiv = document.currentScript.previousElementSibling;\n",
       "    if (outputDiv.id !== \"altair-viz-8eb3b580dbc4436e8700f7168472246c\") {\n",
       "      outputDiv = document.getElementById(\"altair-viz-8eb3b580dbc4436e8700f7168472246c\");\n",
       "    }\n",
       "    const paths = {\n",
       "      \"vega\": \"https://cdn.jsdelivr.net/npm/vega@5?noext\",\n",
       "      \"vega-lib\": \"https://cdn.jsdelivr.net/npm/vega-lib?noext\",\n",
       "      \"vega-lite\": \"https://cdn.jsdelivr.net/npm/vega-lite@5.16.3?noext\",\n",
       "      \"vega-embed\": \"https://cdn.jsdelivr.net/npm/vega-embed@6?noext\",\n",
       "    };\n",
       "\n",
       "    function maybeLoadScript(lib, version) {\n",
       "      var key = `${lib.replace(\"-\", \"\")}_version`;\n",
       "      return (VEGA_DEBUG[key] == version) ?\n",
       "        Promise.resolve(paths[lib]) :\n",
       "        new Promise(function(resolve, reject) {\n",
       "          var s = document.createElement('script');\n",
       "          document.getElementsByTagName(\"head\")[0].appendChild(s);\n",
       "          s.async = true;\n",
       "          s.onload = () => {\n",
       "            VEGA_DEBUG[key] = version;\n",
       "            return resolve(paths[lib]);\n",
       "          };\n",
       "          s.onerror = () => reject(`Error loading script: ${paths[lib]}`);\n",
       "          s.src = paths[lib];\n",
       "        });\n",
       "    }\n",
       "\n",
       "    function showError(err) {\n",
       "      outputDiv.innerHTML = `<div class=\"error\" style=\"color:red;\">${err}</div>`;\n",
       "      throw err;\n",
       "    }\n",
       "\n",
       "    function displayChart(vegaEmbed) {\n",
       "      vegaEmbed(outputDiv, spec, embedOpt)\n",
       "        .catch(err => showError(`Javascript Error: ${err.message}<br>This usually means there's a typo in your chart specification. See the javascript console for the full traceback.`));\n",
       "    }\n",
       "\n",
       "    if(typeof define === \"function\" && define.amd) {\n",
       "      requirejs.config({paths});\n",
       "      require([\"vega-embed\"], displayChart, err => showError(`Error loading script: ${err.message}`));\n",
       "    } else {\n",
       "      maybeLoadScript(\"vega\", \"5\")\n",
       "        .then(() => maybeLoadScript(\"vega-lite\", \"5.16.3\"))\n",
       "        .then(() => maybeLoadScript(\"vega-embed\", \"6\"))\n",
       "        .catch(showError)\n",
       "        .then(() => displayChart(vegaEmbed));\n",
       "    }\n",
       "  })({\"config\": {\"view\": {\"continuousWidth\": 300, \"continuousHeight\": 300}}, \"data\": {\"name\": \"data-735f240193dd2cdb3a32cdf14aa8adc1\"}, \"mark\": {\"type\": \"line\", \"point\": true}, \"encoding\": {\"tooltip\": [{\"field\": \"Fiscal Year\", \"type\": \"temporal\"}, {\"field\": \"Average Participation\", \"type\": \"quantitative\"}], \"x\": {\"field\": \"Fiscal Year\", \"type\": \"temporal\"}, \"y\": {\"field\": \"Average Participation\", \"type\": \"quantitative\"}}, \"title\": \"SNAP Participation from 1969 - 2019\", \"width\": 600, \"$schema\": \"https://vega.github.io/schema/vega-lite/v5.16.3.json\", \"datasets\": {\"data-735f240193dd2cdb3a32cdf14aa8adc1\": [{\"Fiscal Year\": \"1969-01-01T00:00:00\", \"Average Participation\": 2878, \"Average Benefit Per Person\": 6.63, \"Total Benefits(M)\": 228.8, \"Other Costs\": 21.7, \"Total Costs(M)\": 250.5}, {\"Fiscal Year\": \"1970-01-01T00:00:00\", \"Average Participation\": 4340, \"Average Benefit Per Person\": 10.55, \"Total Benefits(M)\": 549.7, \"Other Costs\": 27.2, \"Total Costs(M)\": 576.9}, {\"Fiscal Year\": \"1971-01-01T00:00:00\", \"Average Participation\": 9368, \"Average Benefit Per Person\": 13.55, \"Total Benefits(M)\": 1522.7, \"Other Costs\": 53.2, \"Total Costs(M)\": 1575.9}, {\"Fiscal Year\": \"1972-01-01T00:00:00\", \"Average Participation\": 11109, \"Average Benefit Per Person\": 13.48, \"Total Benefits(M)\": 1797.3, \"Other Costs\": 69.4, \"Total Costs(M)\": 1866.7}, {\"Fiscal Year\": \"1973-01-01T00:00:00\", \"Average Participation\": 12166, \"Average Benefit Per Person\": 14.6, \"Total Benefits(M)\": 2131.4, \"Other Costs\": 76.0, \"Total Costs(M)\": 2207.4}, {\"Fiscal Year\": \"1974-01-01T00:00:00\", \"Average Participation\": 12862, \"Average Benefit Per Person\": 17.61, \"Total Benefits(M)\": 2718.3, \"Other Costs\": 119.2, \"Total Costs(M)\": 2837.5}, {\"Fiscal Year\": \"1975-01-01T00:00:00\", \"Average Participation\": 17064, \"Average Benefit Per Person\": 21.4, \"Total Benefits(M)\": 4385.5, \"Other Costs\": 233.2, \"Total Costs(M)\": 4618.7}, {\"Fiscal Year\": \"1976-01-01T00:00:00\", \"Average Participation\": 18549, \"Average Benefit Per Person\": 23.93, \"Total Benefits(M)\": 5326.5, \"Other Costs\": 359.0, \"Total Costs(M)\": 5685.5}, {\"Fiscal Year\": \"1977-01-01T00:00:00\", \"Average Participation\": 17077, \"Average Benefit Per Person\": 24.71, \"Total Benefits(M)\": 5067.0, \"Other Costs\": 394.0, \"Total Costs(M)\": 5461.0}, {\"Fiscal Year\": \"1978-01-01T00:00:00\", \"Average Participation\": 16001, \"Average Benefit Per Person\": 26.77, \"Total Benefits(M)\": 5139.2, \"Other Costs\": 380.5, \"Total Costs(M)\": 5519.7}, {\"Fiscal Year\": \"1979-01-01T00:00:00\", \"Average Participation\": 17653, \"Average Benefit Per Person\": 30.59, \"Total Benefits(M)\": 6480.2, \"Other Costs\": 459.6, \"Total Costs(M)\": 6939.8}, {\"Fiscal Year\": \"1980-01-01T00:00:00\", \"Average Participation\": 21082, \"Average Benefit Per Person\": 34.47, \"Total Benefits(M)\": 8720.9, \"Other Costs\": 485.6, \"Total Costs(M)\": 9206.5}, {\"Fiscal Year\": \"1981-01-01T00:00:00\", \"Average Participation\": 22430, \"Average Benefit Per Person\": 39.49, \"Total Benefits(M)\": 10629.9, \"Other Costs\": 595.4, \"Total Costs(M)\": 11225.2}, {\"Fiscal Year\": \"1982-01-01T00:00:00\", \"Average Participation\": 21717, \"Average Benefit Per Person\": 39.17, \"Total Benefits(M)\": 10208.3, \"Other Costs\": 628.4, \"Total Costs(M)\": 10836.7}, {\"Fiscal Year\": \"1983-01-01T00:00:00\", \"Average Participation\": 21625, \"Average Benefit Per Person\": 42.98, \"Total Benefits(M)\": 11152.3, \"Other Costs\": 694.8, \"Total Costs(M)\": 11847.1}, {\"Fiscal Year\": \"1984-01-01T00:00:00\", \"Average Participation\": 20854, \"Average Benefit Per Person\": 42.74, \"Total Benefits(M)\": 10696.1, \"Other Costs\": 882.6, \"Total Costs(M)\": 11578.8}, {\"Fiscal Year\": \"1985-01-01T00:00:00\", \"Average Participation\": 19899, \"Average Benefit Per Person\": 44.99, \"Total Benefits(M)\": 10743.6, \"Other Costs\": 959.6, \"Total Costs(M)\": 11703.2}, {\"Fiscal Year\": \"1986-01-01T00:00:00\", \"Average Participation\": 19429, \"Average Benefit Per Person\": 45.49, \"Total Benefits(M)\": 10605.2, \"Other Costs\": 1033.2, \"Total Costs(M)\": 11638.4}, {\"Fiscal Year\": \"1987-01-01T00:00:00\", \"Average Participation\": 19113, \"Average Benefit Per Person\": 45.78, \"Total Benefits(M)\": 10500.3, \"Other Costs\": 1103.9, \"Total Costs(M)\": 11604.2}, {\"Fiscal Year\": \"1988-01-01T00:00:00\", \"Average Participation\": 18645, \"Average Benefit Per Person\": 49.83, \"Total Benefits(M)\": 11149.1, \"Other Costs\": 1167.7, \"Total Costs(M)\": 12316.8}, {\"Fiscal Year\": \"1989-01-01T00:00:00\", \"Average Participation\": 18806, \"Average Benefit Per Person\": 51.71, \"Total Benefits(M)\": 11669.78, \"Other Costs\": 1231.81, \"Total Costs(M)\": 12901.59}, {\"Fiscal Year\": \"1990-01-01T00:00:00\", \"Average Participation\": 20049, \"Average Benefit Per Person\": 58.78, \"Total Benefits(M)\": 14142.79, \"Other Costs\": 1304.47, \"Total Costs(M)\": 15447.26}, {\"Fiscal Year\": \"1991-01-01T00:00:00\", \"Average Participation\": 22625, \"Average Benefit Per Person\": 63.78, \"Total Benefits(M)\": 17315.77, \"Other Costs\": 1431.5, \"Total Costs(M)\": 18747.27}, {\"Fiscal Year\": \"1992-01-01T00:00:00\", \"Average Participation\": 25407, \"Average Benefit Per Person\": 68.57, \"Total Benefits(M)\": 20905.68, \"Other Costs\": 1556.66, \"Total Costs(M)\": 22462.34}, {\"Fiscal Year\": \"1993-01-01T00:00:00\", \"Average Participation\": 26987, \"Average Benefit Per Person\": 67.95, \"Total Benefits(M)\": 22006.03, \"Other Costs\": 1646.94, \"Total Costs(M)\": 23652.97}, {\"Fiscal Year\": \"1994-01-01T00:00:00\", \"Average Participation\": 27474, \"Average Benefit Per Person\": 69.0, \"Total Benefits(M)\": 22748.58, \"Other Costs\": 1744.87, \"Total Costs(M)\": 24493.45}, {\"Fiscal Year\": \"1995-01-01T00:00:00\", \"Average Participation\": 26619, \"Average Benefit Per Person\": 71.27, \"Total Benefits(M)\": 22764.07, \"Other Costs\": 1856.3, \"Total Costs(M)\": 24620.37}, {\"Fiscal Year\": \"1996-01-01T00:00:00\", \"Average Participation\": 25543, \"Average Benefit Per Person\": 73.21, \"Total Benefits(M)\": 22440.11, \"Other Costs\": 1890.88, \"Total Costs(M)\": 24330.99}, {\"Fiscal Year\": \"1997-01-01T00:00:00\", \"Average Participation\": 22858, \"Average Benefit Per Person\": 71.27, \"Total Benefits(M)\": 19548.86, \"Other Costs\": 1958.68, \"Total Costs(M)\": 21507.55}, {\"Fiscal Year\": \"1998-01-01T00:00:00\", \"Average Participation\": 19791, \"Average Benefit Per Person\": 71.12, \"Total Benefits(M)\": 16890.49, \"Other Costs\": 2097.84, \"Total Costs(M)\": 18988.32}, {\"Fiscal Year\": \"1999-01-01T00:00:00\", \"Average Participation\": 18183, \"Average Benefit Per Person\": 72.27, \"Total Benefits(M)\": 15769.4, \"Other Costs\": 2051.52, \"Total Costs(M)\": 17820.92}, {\"Fiscal Year\": \"2000-01-01T00:00:00\", \"Average Participation\": 17194, \"Average Benefit Per Person\": 72.62, \"Total Benefits(M)\": 14983.32, \"Other Costs\": 2070.7, \"Total Costs(M)\": 17054.02}, {\"Fiscal Year\": \"2001-01-01T00:00:00\", \"Average Participation\": 17318, \"Average Benefit Per Person\": 74.81, \"Total Benefits(M)\": 15547.39, \"Other Costs\": 2242.0, \"Total Costs(M)\": 17789.39}, {\"Fiscal Year\": \"2002-01-01T00:00:00\", \"Average Participation\": 19096, \"Average Benefit Per Person\": 79.67, \"Total Benefits(M)\": 18256.2, \"Other Costs\": 2380.82, \"Total Costs(M)\": 20637.02}, {\"Fiscal Year\": \"2003-01-01T00:00:00\", \"Average Participation\": 21250, \"Average Benefit Per Person\": 83.94, \"Total Benefits(M)\": 21404.28, \"Other Costs\": 2412.01, \"Total Costs(M)\": 23816.28}, {\"Fiscal Year\": \"2004-01-01T00:00:00\", \"Average Participation\": 23811, \"Average Benefit Per Person\": 86.16, \"Total Benefits(M)\": 24618.89, \"Other Costs\": 2480.14, \"Total Costs(M)\": 27099.03}, {\"Fiscal Year\": \"2005-01-01T00:00:00\", \"Average Participation\": 25628, \"Average Benefit Per Person\": 92.89, \"Total Benefits(M)\": 28567.88, \"Other Costs\": 2504.13, \"Total Costs(M)\": 31072.01}, {\"Fiscal Year\": \"2006-01-01T00:00:00\", \"Average Participation\": 26549, \"Average Benefit Per Person\": 94.75, \"Total Benefits(M)\": 30187.35, \"Other Costs\": 2715.72, \"Total Costs(M)\": 32903.06}, {\"Fiscal Year\": \"2007-01-01T00:00:00\", \"Average Participation\": 26316, \"Average Benefit Per Person\": 96.18, \"Total Benefits(M)\": 30373.27, \"Other Costs\": 2800.25, \"Total Costs(M)\": 33173.52}, {\"Fiscal Year\": \"2008-01-01T00:00:00\", \"Average Participation\": 28223, \"Average Benefit Per Person\": 102.19, \"Total Benefits(M)\": 34608.4, \"Other Costs\": 3031.25, \"Total Costs(M)\": 37639.64}, {\"Fiscal Year\": \"2009-01-01T00:00:00\", \"Average Participation\": 33490, \"Average Benefit Per Person\": 125.31, \"Total Benefits(M)\": 50359.92, \"Other Costs\": 3260.0, \"Total Costs(M)\": 53619.92}, {\"Fiscal Year\": \"2010-01-01T00:00:00\", \"Average Participation\": 40302, \"Average Benefit Per Person\": 133.79, \"Total Benefits(M)\": 64702.16, \"Other Costs\": 3581.3, \"Total Costs(M)\": 68283.47}, {\"Fiscal Year\": \"2011-01-01T00:00:00\", \"Average Participation\": 44709, \"Average Benefit Per Person\": 133.85, \"Total Benefits(M)\": 71810.92, \"Other Costs\": 3875.62, \"Total Costs(M)\": 75686.54}, {\"Fiscal Year\": \"2012-01-01T00:00:00\", \"Average Participation\": 46609, \"Average Benefit Per Person\": 133.41, \"Total Benefits(M)\": 74619.34, \"Other Costs\": 3791.75, \"Total Costs(M)\": 78411.1}, {\"Fiscal Year\": \"2013-01-01T00:00:00\", \"Average Participation\": 47636, \"Average Benefit Per Person\": 133.07, \"Total Benefits(M)\": 76066.32, \"Other Costs\": 3792.71, \"Total Costs(M)\": 79859.03}, {\"Fiscal Year\": \"2014-01-01T00:00:00\", \"Average Participation\": 46664, \"Average Benefit Per Person\": 125.01, \"Total Benefits(M)\": 69998.84, \"Other Costs\": 4061.49, \"Total Costs(M)\": 74060.33}, {\"Fiscal Year\": \"2015-01-01T00:00:00\", \"Average Participation\": 45767, \"Average Benefit Per Person\": 126.81, \"Total Benefits(M)\": 69645.14, \"Other Costs\": 4301.03, \"Total Costs(M)\": 73946.17}, {\"Fiscal Year\": \"2016-01-01T00:00:00\", \"Average Participation\": 44220, \"Average Benefit Per Person\": 125.4, \"Total Benefits(M)\": 66539.27, \"Other Costs\": 4374.28, \"Total Costs(M)\": 70913.55}, {\"Fiscal Year\": \"2017-01-01T00:00:00\", \"Average Participation\": 42317, \"Average Benefit Per Person\": 125.47, \"Total Benefits(M)\": 63711.05, \"Other Costs\": 4463.67, \"Total Costs(M)\": 68174.72}, {\"Fiscal Year\": \"2018-01-01T00:00:00\", \"Average Participation\": 40776, \"Average Benefit Per Person\": 124.5, \"Total Benefits(M)\": 60916.85, \"Other Costs\": 4529.55, \"Total Costs(M)\": 65446.4}, {\"Fiscal Year\": \"2019-01-01T00:00:00\", \"Average Participation\": 35703, \"Average Benefit Per Person\": 129.83, \"Total Benefits(M)\": 55621.88, \"Other Costs\": 4744.33, \"Total Costs(M)\": 60366.21}]}}, {\"mode\": \"vega-lite\"});\n",
       "</script>"
      ],
      "text/plain": [
       "alt.Chart(...)"
      ]
     },
     "execution_count": 43,
     "metadata": {},
     "output_type": "execute_result"
    }
   ],
   "source": [
    "snap_par_per_year = alt.Chart(df).mark_line(point = True).encode(\n",
    "    x = 'Fiscal Year',\n",
    "    y = 'Average Participation',\n",
    "    tooltip = ['Fiscal Year', 'Average Participation']\n",
    ").properties(\n",
    "    title = 'SNAP Participation from 1969 - 2019',\n",
    "    width = 600\n",
    ")\n",
    "\n",
    "snap_par_per_year"
   ]
  },
  {
   "cell_type": "code",
   "execution_count": 44,
   "metadata": {},
   "outputs": [
    {
     "data": {
      "text/html": [
       "\n",
       "<style>\n",
       "  #altair-viz-48c62099a62b482f85677c88a665e754.vega-embed {\n",
       "    width: 100%;\n",
       "    display: flex;\n",
       "  }\n",
       "\n",
       "  #altair-viz-48c62099a62b482f85677c88a665e754.vega-embed details,\n",
       "  #altair-viz-48c62099a62b482f85677c88a665e754.vega-embed details summary {\n",
       "    position: relative;\n",
       "  }\n",
       "</style>\n",
       "<div id=\"altair-viz-48c62099a62b482f85677c88a665e754\"></div>\n",
       "<script type=\"text/javascript\">\n",
       "  var VEGA_DEBUG = (typeof VEGA_DEBUG == \"undefined\") ? {} : VEGA_DEBUG;\n",
       "  (function(spec, embedOpt){\n",
       "    let outputDiv = document.currentScript.previousElementSibling;\n",
       "    if (outputDiv.id !== \"altair-viz-48c62099a62b482f85677c88a665e754\") {\n",
       "      outputDiv = document.getElementById(\"altair-viz-48c62099a62b482f85677c88a665e754\");\n",
       "    }\n",
       "    const paths = {\n",
       "      \"vega\": \"https://cdn.jsdelivr.net/npm/vega@5?noext\",\n",
       "      \"vega-lib\": \"https://cdn.jsdelivr.net/npm/vega-lib?noext\",\n",
       "      \"vega-lite\": \"https://cdn.jsdelivr.net/npm/vega-lite@5.16.3?noext\",\n",
       "      \"vega-embed\": \"https://cdn.jsdelivr.net/npm/vega-embed@6?noext\",\n",
       "    };\n",
       "\n",
       "    function maybeLoadScript(lib, version) {\n",
       "      var key = `${lib.replace(\"-\", \"\")}_version`;\n",
       "      return (VEGA_DEBUG[key] == version) ?\n",
       "        Promise.resolve(paths[lib]) :\n",
       "        new Promise(function(resolve, reject) {\n",
       "          var s = document.createElement('script');\n",
       "          document.getElementsByTagName(\"head\")[0].appendChild(s);\n",
       "          s.async = true;\n",
       "          s.onload = () => {\n",
       "            VEGA_DEBUG[key] = version;\n",
       "            return resolve(paths[lib]);\n",
       "          };\n",
       "          s.onerror = () => reject(`Error loading script: ${paths[lib]}`);\n",
       "          s.src = paths[lib];\n",
       "        });\n",
       "    }\n",
       "\n",
       "    function showError(err) {\n",
       "      outputDiv.innerHTML = `<div class=\"error\" style=\"color:red;\">${err}</div>`;\n",
       "      throw err;\n",
       "    }\n",
       "\n",
       "    function displayChart(vegaEmbed) {\n",
       "      vegaEmbed(outputDiv, spec, embedOpt)\n",
       "        .catch(err => showError(`Javascript Error: ${err.message}<br>This usually means there's a typo in your chart specification. See the javascript console for the full traceback.`));\n",
       "    }\n",
       "\n",
       "    if(typeof define === \"function\" && define.amd) {\n",
       "      requirejs.config({paths});\n",
       "      require([\"vega-embed\"], displayChart, err => showError(`Error loading script: ${err.message}`));\n",
       "    } else {\n",
       "      maybeLoadScript(\"vega\", \"5\")\n",
       "        .then(() => maybeLoadScript(\"vega-lite\", \"5.16.3\"))\n",
       "        .then(() => maybeLoadScript(\"vega-embed\", \"6\"))\n",
       "        .catch(showError)\n",
       "        .then(() => displayChart(vegaEmbed));\n",
       "    }\n",
       "  })({\"config\": {\"view\": {\"continuousWidth\": 300, \"continuousHeight\": 300}}, \"layer\": [{\"mark\": {\"type\": \"bar\", \"color\": \"green\"}, \"encoding\": {\"tooltip\": [{\"field\": \"Fiscal Year\", \"type\": \"temporal\"}, {\"field\": \"Total Costs(M)\", \"type\": \"quantitative\"}], \"x\": {\"field\": \"Fiscal Year\", \"type\": \"temporal\"}, \"y\": {\"field\": \"Total Costs(M)\", \"title\": \"Millions\", \"type\": \"quantitative\"}}, \"title\": \"Total Cost of SNAP with Rolling Mean from 1969 - 2019\"}, {\"mark\": {\"type\": \"line\", \"color\": \"purple\"}, \"encoding\": {\"x\": {\"field\": \"Fiscal Year\", \"type\": \"temporal\"}, \"y\": {\"field\": \"rolling_mean\", \"type\": \"quantitative\"}}, \"transform\": [{\"window\": [{\"op\": \"mean\", \"field\": \"Total Costs(M)\", \"as\": \"rolling_mean\"}], \"frame\": [-9, 0]}]}], \"data\": {\"name\": \"data-735f240193dd2cdb3a32cdf14aa8adc1\"}, \"width\": 600, \"$schema\": \"https://vega.github.io/schema/vega-lite/v5.16.3.json\", \"datasets\": {\"data-735f240193dd2cdb3a32cdf14aa8adc1\": [{\"Fiscal Year\": \"1969-01-01T00:00:00\", \"Average Participation\": 2878, \"Average Benefit Per Person\": 6.63, \"Total Benefits(M)\": 228.8, \"Other Costs\": 21.7, \"Total Costs(M)\": 250.5}, {\"Fiscal Year\": \"1970-01-01T00:00:00\", \"Average Participation\": 4340, \"Average Benefit Per Person\": 10.55, \"Total Benefits(M)\": 549.7, \"Other Costs\": 27.2, \"Total Costs(M)\": 576.9}, {\"Fiscal Year\": \"1971-01-01T00:00:00\", \"Average Participation\": 9368, \"Average Benefit Per Person\": 13.55, \"Total Benefits(M)\": 1522.7, \"Other Costs\": 53.2, \"Total Costs(M)\": 1575.9}, {\"Fiscal Year\": \"1972-01-01T00:00:00\", \"Average Participation\": 11109, \"Average Benefit Per Person\": 13.48, \"Total Benefits(M)\": 1797.3, \"Other Costs\": 69.4, \"Total Costs(M)\": 1866.7}, {\"Fiscal Year\": \"1973-01-01T00:00:00\", \"Average Participation\": 12166, \"Average Benefit Per Person\": 14.6, \"Total Benefits(M)\": 2131.4, \"Other Costs\": 76.0, \"Total Costs(M)\": 2207.4}, {\"Fiscal Year\": \"1974-01-01T00:00:00\", \"Average Participation\": 12862, \"Average Benefit Per Person\": 17.61, \"Total Benefits(M)\": 2718.3, \"Other Costs\": 119.2, \"Total Costs(M)\": 2837.5}, {\"Fiscal Year\": \"1975-01-01T00:00:00\", \"Average Participation\": 17064, \"Average Benefit Per Person\": 21.4, \"Total Benefits(M)\": 4385.5, \"Other Costs\": 233.2, \"Total Costs(M)\": 4618.7}, {\"Fiscal Year\": \"1976-01-01T00:00:00\", \"Average Participation\": 18549, \"Average Benefit Per Person\": 23.93, \"Total Benefits(M)\": 5326.5, \"Other Costs\": 359.0, \"Total Costs(M)\": 5685.5}, {\"Fiscal Year\": \"1977-01-01T00:00:00\", \"Average Participation\": 17077, \"Average Benefit Per Person\": 24.71, \"Total Benefits(M)\": 5067.0, \"Other Costs\": 394.0, \"Total Costs(M)\": 5461.0}, {\"Fiscal Year\": \"1978-01-01T00:00:00\", \"Average Participation\": 16001, \"Average Benefit Per Person\": 26.77, \"Total Benefits(M)\": 5139.2, \"Other Costs\": 380.5, \"Total Costs(M)\": 5519.7}, {\"Fiscal Year\": \"1979-01-01T00:00:00\", \"Average Participation\": 17653, \"Average Benefit Per Person\": 30.59, \"Total Benefits(M)\": 6480.2, \"Other Costs\": 459.6, \"Total Costs(M)\": 6939.8}, {\"Fiscal Year\": \"1980-01-01T00:00:00\", \"Average Participation\": 21082, \"Average Benefit Per Person\": 34.47, \"Total Benefits(M)\": 8720.9, \"Other Costs\": 485.6, \"Total Costs(M)\": 9206.5}, {\"Fiscal Year\": \"1981-01-01T00:00:00\", \"Average Participation\": 22430, \"Average Benefit Per Person\": 39.49, \"Total Benefits(M)\": 10629.9, \"Other Costs\": 595.4, \"Total Costs(M)\": 11225.2}, {\"Fiscal Year\": \"1982-01-01T00:00:00\", \"Average Participation\": 21717, \"Average Benefit Per Person\": 39.17, \"Total Benefits(M)\": 10208.3, \"Other Costs\": 628.4, \"Total Costs(M)\": 10836.7}, {\"Fiscal Year\": \"1983-01-01T00:00:00\", \"Average Participation\": 21625, \"Average Benefit Per Person\": 42.98, \"Total Benefits(M)\": 11152.3, \"Other Costs\": 694.8, \"Total Costs(M)\": 11847.1}, {\"Fiscal Year\": \"1984-01-01T00:00:00\", \"Average Participation\": 20854, \"Average Benefit Per Person\": 42.74, \"Total Benefits(M)\": 10696.1, \"Other Costs\": 882.6, \"Total Costs(M)\": 11578.8}, {\"Fiscal Year\": \"1985-01-01T00:00:00\", \"Average Participation\": 19899, \"Average Benefit Per Person\": 44.99, \"Total Benefits(M)\": 10743.6, \"Other Costs\": 959.6, \"Total Costs(M)\": 11703.2}, {\"Fiscal Year\": \"1986-01-01T00:00:00\", \"Average Participation\": 19429, \"Average Benefit Per Person\": 45.49, \"Total Benefits(M)\": 10605.2, \"Other Costs\": 1033.2, \"Total Costs(M)\": 11638.4}, {\"Fiscal Year\": \"1987-01-01T00:00:00\", \"Average Participation\": 19113, \"Average Benefit Per Person\": 45.78, \"Total Benefits(M)\": 10500.3, \"Other Costs\": 1103.9, \"Total Costs(M)\": 11604.2}, {\"Fiscal Year\": \"1988-01-01T00:00:00\", \"Average Participation\": 18645, \"Average Benefit Per Person\": 49.83, \"Total Benefits(M)\": 11149.1, \"Other Costs\": 1167.7, \"Total Costs(M)\": 12316.8}, {\"Fiscal Year\": \"1989-01-01T00:00:00\", \"Average Participation\": 18806, \"Average Benefit Per Person\": 51.71, \"Total Benefits(M)\": 11669.78, \"Other Costs\": 1231.81, \"Total Costs(M)\": 12901.59}, {\"Fiscal Year\": \"1990-01-01T00:00:00\", \"Average Participation\": 20049, \"Average Benefit Per Person\": 58.78, \"Total Benefits(M)\": 14142.79, \"Other Costs\": 1304.47, \"Total Costs(M)\": 15447.26}, {\"Fiscal Year\": \"1991-01-01T00:00:00\", \"Average Participation\": 22625, \"Average Benefit Per Person\": 63.78, \"Total Benefits(M)\": 17315.77, \"Other Costs\": 1431.5, \"Total Costs(M)\": 18747.27}, {\"Fiscal Year\": \"1992-01-01T00:00:00\", \"Average Participation\": 25407, \"Average Benefit Per Person\": 68.57, \"Total Benefits(M)\": 20905.68, \"Other Costs\": 1556.66, \"Total Costs(M)\": 22462.34}, {\"Fiscal Year\": \"1993-01-01T00:00:00\", \"Average Participation\": 26987, \"Average Benefit Per Person\": 67.95, \"Total Benefits(M)\": 22006.03, \"Other Costs\": 1646.94, \"Total Costs(M)\": 23652.97}, {\"Fiscal Year\": \"1994-01-01T00:00:00\", \"Average Participation\": 27474, \"Average Benefit Per Person\": 69.0, \"Total Benefits(M)\": 22748.58, \"Other Costs\": 1744.87, \"Total Costs(M)\": 24493.45}, {\"Fiscal Year\": \"1995-01-01T00:00:00\", \"Average Participation\": 26619, \"Average Benefit Per Person\": 71.27, \"Total Benefits(M)\": 22764.07, \"Other Costs\": 1856.3, \"Total Costs(M)\": 24620.37}, {\"Fiscal Year\": \"1996-01-01T00:00:00\", \"Average Participation\": 25543, \"Average Benefit Per Person\": 73.21, \"Total Benefits(M)\": 22440.11, \"Other Costs\": 1890.88, \"Total Costs(M)\": 24330.99}, {\"Fiscal Year\": \"1997-01-01T00:00:00\", \"Average Participation\": 22858, \"Average Benefit Per Person\": 71.27, \"Total Benefits(M)\": 19548.86, \"Other Costs\": 1958.68, \"Total Costs(M)\": 21507.55}, {\"Fiscal Year\": \"1998-01-01T00:00:00\", \"Average Participation\": 19791, \"Average Benefit Per Person\": 71.12, \"Total Benefits(M)\": 16890.49, \"Other Costs\": 2097.84, \"Total Costs(M)\": 18988.32}, {\"Fiscal Year\": \"1999-01-01T00:00:00\", \"Average Participation\": 18183, \"Average Benefit Per Person\": 72.27, \"Total Benefits(M)\": 15769.4, \"Other Costs\": 2051.52, \"Total Costs(M)\": 17820.92}, {\"Fiscal Year\": \"2000-01-01T00:00:00\", \"Average Participation\": 17194, \"Average Benefit Per Person\": 72.62, \"Total Benefits(M)\": 14983.32, \"Other Costs\": 2070.7, \"Total Costs(M)\": 17054.02}, {\"Fiscal Year\": \"2001-01-01T00:00:00\", \"Average Participation\": 17318, \"Average Benefit Per Person\": 74.81, \"Total Benefits(M)\": 15547.39, \"Other Costs\": 2242.0, \"Total Costs(M)\": 17789.39}, {\"Fiscal Year\": \"2002-01-01T00:00:00\", \"Average Participation\": 19096, \"Average Benefit Per Person\": 79.67, \"Total Benefits(M)\": 18256.2, \"Other Costs\": 2380.82, \"Total Costs(M)\": 20637.02}, {\"Fiscal Year\": \"2003-01-01T00:00:00\", \"Average Participation\": 21250, \"Average Benefit Per Person\": 83.94, \"Total Benefits(M)\": 21404.28, \"Other Costs\": 2412.01, \"Total Costs(M)\": 23816.28}, {\"Fiscal Year\": \"2004-01-01T00:00:00\", \"Average Participation\": 23811, \"Average Benefit Per Person\": 86.16, \"Total Benefits(M)\": 24618.89, \"Other Costs\": 2480.14, \"Total Costs(M)\": 27099.03}, {\"Fiscal Year\": \"2005-01-01T00:00:00\", \"Average Participation\": 25628, \"Average Benefit Per Person\": 92.89, \"Total Benefits(M)\": 28567.88, \"Other Costs\": 2504.13, \"Total Costs(M)\": 31072.01}, {\"Fiscal Year\": \"2006-01-01T00:00:00\", \"Average Participation\": 26549, \"Average Benefit Per Person\": 94.75, \"Total Benefits(M)\": 30187.35, \"Other Costs\": 2715.72, \"Total Costs(M)\": 32903.06}, {\"Fiscal Year\": \"2007-01-01T00:00:00\", \"Average Participation\": 26316, \"Average Benefit Per Person\": 96.18, \"Total Benefits(M)\": 30373.27, \"Other Costs\": 2800.25, \"Total Costs(M)\": 33173.52}, {\"Fiscal Year\": \"2008-01-01T00:00:00\", \"Average Participation\": 28223, \"Average Benefit Per Person\": 102.19, \"Total Benefits(M)\": 34608.4, \"Other Costs\": 3031.25, \"Total Costs(M)\": 37639.64}, {\"Fiscal Year\": \"2009-01-01T00:00:00\", \"Average Participation\": 33490, \"Average Benefit Per Person\": 125.31, \"Total Benefits(M)\": 50359.92, \"Other Costs\": 3260.0, \"Total Costs(M)\": 53619.92}, {\"Fiscal Year\": \"2010-01-01T00:00:00\", \"Average Participation\": 40302, \"Average Benefit Per Person\": 133.79, \"Total Benefits(M)\": 64702.16, \"Other Costs\": 3581.3, \"Total Costs(M)\": 68283.47}, {\"Fiscal Year\": \"2011-01-01T00:00:00\", \"Average Participation\": 44709, \"Average Benefit Per Person\": 133.85, \"Total Benefits(M)\": 71810.92, \"Other Costs\": 3875.62, \"Total Costs(M)\": 75686.54}, {\"Fiscal Year\": \"2012-01-01T00:00:00\", \"Average Participation\": 46609, \"Average Benefit Per Person\": 133.41, \"Total Benefits(M)\": 74619.34, \"Other Costs\": 3791.75, \"Total Costs(M)\": 78411.1}, {\"Fiscal Year\": \"2013-01-01T00:00:00\", \"Average Participation\": 47636, \"Average Benefit Per Person\": 133.07, \"Total Benefits(M)\": 76066.32, \"Other Costs\": 3792.71, \"Total Costs(M)\": 79859.03}, {\"Fiscal Year\": \"2014-01-01T00:00:00\", \"Average Participation\": 46664, \"Average Benefit Per Person\": 125.01, \"Total Benefits(M)\": 69998.84, \"Other Costs\": 4061.49, \"Total Costs(M)\": 74060.33}, {\"Fiscal Year\": \"2015-01-01T00:00:00\", \"Average Participation\": 45767, \"Average Benefit Per Person\": 126.81, \"Total Benefits(M)\": 69645.14, \"Other Costs\": 4301.03, \"Total Costs(M)\": 73946.17}, {\"Fiscal Year\": \"2016-01-01T00:00:00\", \"Average Participation\": 44220, \"Average Benefit Per Person\": 125.4, \"Total Benefits(M)\": 66539.27, \"Other Costs\": 4374.28, \"Total Costs(M)\": 70913.55}, {\"Fiscal Year\": \"2017-01-01T00:00:00\", \"Average Participation\": 42317, \"Average Benefit Per Person\": 125.47, \"Total Benefits(M)\": 63711.05, \"Other Costs\": 4463.67, \"Total Costs(M)\": 68174.72}, {\"Fiscal Year\": \"2018-01-01T00:00:00\", \"Average Participation\": 40776, \"Average Benefit Per Person\": 124.5, \"Total Benefits(M)\": 60916.85, \"Other Costs\": 4529.55, \"Total Costs(M)\": 65446.4}, {\"Fiscal Year\": \"2019-01-01T00:00:00\", \"Average Participation\": 35703, \"Average Benefit Per Person\": 129.83, \"Total Benefits(M)\": 55621.88, \"Other Costs\": 4744.33, \"Total Costs(M)\": 60366.21}]}}, {\"mode\": \"vega-lite\"});\n",
       "</script>"
      ],
      "text/plain": [
       "alt.LayerChart(...)"
      ]
     },
     "execution_count": 44,
     "metadata": {},
     "output_type": "execute_result"
    }
   ],
   "source": [
    "bar = alt.Chart(df).mark_bar(color = 'green').encode(\n",
    "    x = 'Fiscal Year',\n",
    "    y = alt.Y('Total Costs(M)', title = 'Millions'),\n",
    "    tooltip = ['Fiscal Year', 'Total Costs(M)']\n",
    ").properties(\n",
    "    title = 'Total Cost of SNAP with Rolling Mean from 1969 - 2019'\n",
    ")\n",
    "\n",
    "line = alt.Chart(df).mark_line(color = 'purple').transform_window(\n",
    "    rolling_mean = 'mean(Total Costs(M))',\n",
    "    frame = [-9,0],\n",
    "    ).encode(\n",
    "        x = 'Fiscal Year',\n",
    "        y = 'rolling_mean:Q'\n",
    ")\n",
    "\n",
    "\n",
    "(bar + line).properties(\n",
    "    width = 600\n",
    ")"
   ]
  },
  {
   "cell_type": "code",
   "execution_count": 45,
   "metadata": {},
   "outputs": [
    {
     "data": {
      "text/html": [
       "\n",
       "<style>\n",
       "  #altair-viz-6515a6bfe6054daa96d727042b8eec4c.vega-embed {\n",
       "    width: 100%;\n",
       "    display: flex;\n",
       "  }\n",
       "\n",
       "  #altair-viz-6515a6bfe6054daa96d727042b8eec4c.vega-embed details,\n",
       "  #altair-viz-6515a6bfe6054daa96d727042b8eec4c.vega-embed details summary {\n",
       "    position: relative;\n",
       "  }\n",
       "</style>\n",
       "<div id=\"altair-viz-6515a6bfe6054daa96d727042b8eec4c\"></div>\n",
       "<script type=\"text/javascript\">\n",
       "  var VEGA_DEBUG = (typeof VEGA_DEBUG == \"undefined\") ? {} : VEGA_DEBUG;\n",
       "  (function(spec, embedOpt){\n",
       "    let outputDiv = document.currentScript.previousElementSibling;\n",
       "    if (outputDiv.id !== \"altair-viz-6515a6bfe6054daa96d727042b8eec4c\") {\n",
       "      outputDiv = document.getElementById(\"altair-viz-6515a6bfe6054daa96d727042b8eec4c\");\n",
       "    }\n",
       "    const paths = {\n",
       "      \"vega\": \"https://cdn.jsdelivr.net/npm/vega@5?noext\",\n",
       "      \"vega-lib\": \"https://cdn.jsdelivr.net/npm/vega-lib?noext\",\n",
       "      \"vega-lite\": \"https://cdn.jsdelivr.net/npm/vega-lite@5.16.3?noext\",\n",
       "      \"vega-embed\": \"https://cdn.jsdelivr.net/npm/vega-embed@6?noext\",\n",
       "    };\n",
       "\n",
       "    function maybeLoadScript(lib, version) {\n",
       "      var key = `${lib.replace(\"-\", \"\")}_version`;\n",
       "      return (VEGA_DEBUG[key] == version) ?\n",
       "        Promise.resolve(paths[lib]) :\n",
       "        new Promise(function(resolve, reject) {\n",
       "          var s = document.createElement('script');\n",
       "          document.getElementsByTagName(\"head\")[0].appendChild(s);\n",
       "          s.async = true;\n",
       "          s.onload = () => {\n",
       "            VEGA_DEBUG[key] = version;\n",
       "            return resolve(paths[lib]);\n",
       "          };\n",
       "          s.onerror = () => reject(`Error loading script: ${paths[lib]}`);\n",
       "          s.src = paths[lib];\n",
       "        });\n",
       "    }\n",
       "\n",
       "    function showError(err) {\n",
       "      outputDiv.innerHTML = `<div class=\"error\" style=\"color:red;\">${err}</div>`;\n",
       "      throw err;\n",
       "    }\n",
       "\n",
       "    function displayChart(vegaEmbed) {\n",
       "      vegaEmbed(outputDiv, spec, embedOpt)\n",
       "        .catch(err => showError(`Javascript Error: ${err.message}<br>This usually means there's a typo in your chart specification. See the javascript console for the full traceback.`));\n",
       "    }\n",
       "\n",
       "    if(typeof define === \"function\" && define.amd) {\n",
       "      requirejs.config({paths});\n",
       "      require([\"vega-embed\"], displayChart, err => showError(`Error loading script: ${err.message}`));\n",
       "    } else {\n",
       "      maybeLoadScript(\"vega\", \"5\")\n",
       "        .then(() => maybeLoadScript(\"vega-lite\", \"5.16.3\"))\n",
       "        .then(() => maybeLoadScript(\"vega-embed\", \"6\"))\n",
       "        .catch(showError)\n",
       "        .then(() => displayChart(vegaEmbed));\n",
       "    }\n",
       "  })({\"config\": {\"view\": {\"continuousWidth\": 300, \"continuousHeight\": 300}}, \"data\": {\"name\": \"data-f505491984afdd2e9b8acbce7c08985d\"}, \"mark\": {\"type\": \"bar\"}, \"encoding\": {\"color\": {\"field\": \"Category\", \"type\": \"nominal\"}, \"tooltip\": [{\"field\": \"Fiscal Year\", \"type\": \"temporal\"}, {\"aggregate\": \"sum\", \"field\": \"value\", \"type\": \"quantitative\"}], \"x\": {\"field\": \"Fiscal Year\", \"type\": \"temporal\"}, \"y\": {\"aggregate\": \"sum\", \"field\": \"value\", \"title\": \"Total Cost in Millions\", \"type\": \"quantitative\"}}, \"title\": \"Total Costs by Category\", \"width\": 600, \"$schema\": \"https://vega.github.io/schema/vega-lite/v5.16.3.json\", \"datasets\": {\"data-f505491984afdd2e9b8acbce7c08985d\": [{\"Fiscal Year\": \"1969-01-01T00:00:00\", \"Category\": \"Total Benefits(M)\", \"value\": 228.8}, {\"Fiscal Year\": \"1970-01-01T00:00:00\", \"Category\": \"Total Benefits(M)\", \"value\": 549.7}, {\"Fiscal Year\": \"1971-01-01T00:00:00\", \"Category\": \"Total Benefits(M)\", \"value\": 1522.7}, {\"Fiscal Year\": \"1972-01-01T00:00:00\", \"Category\": \"Total Benefits(M)\", \"value\": 1797.3}, {\"Fiscal Year\": \"1973-01-01T00:00:00\", \"Category\": \"Total Benefits(M)\", \"value\": 2131.4}, {\"Fiscal Year\": \"1974-01-01T00:00:00\", \"Category\": \"Total Benefits(M)\", \"value\": 2718.3}, {\"Fiscal Year\": \"1975-01-01T00:00:00\", \"Category\": \"Total Benefits(M)\", \"value\": 4385.5}, {\"Fiscal Year\": \"1976-01-01T00:00:00\", \"Category\": \"Total Benefits(M)\", \"value\": 5326.5}, {\"Fiscal Year\": \"1977-01-01T00:00:00\", \"Category\": \"Total Benefits(M)\", \"value\": 5067.0}, {\"Fiscal Year\": \"1978-01-01T00:00:00\", \"Category\": \"Total Benefits(M)\", \"value\": 5139.2}, {\"Fiscal Year\": \"1979-01-01T00:00:00\", \"Category\": \"Total Benefits(M)\", \"value\": 6480.2}, {\"Fiscal Year\": \"1980-01-01T00:00:00\", \"Category\": \"Total Benefits(M)\", \"value\": 8720.9}, {\"Fiscal Year\": \"1981-01-01T00:00:00\", \"Category\": \"Total Benefits(M)\", \"value\": 10629.9}, {\"Fiscal Year\": \"1982-01-01T00:00:00\", \"Category\": \"Total Benefits(M)\", \"value\": 10208.3}, {\"Fiscal Year\": \"1983-01-01T00:00:00\", \"Category\": \"Total Benefits(M)\", \"value\": 11152.3}, {\"Fiscal Year\": \"1984-01-01T00:00:00\", \"Category\": \"Total Benefits(M)\", \"value\": 10696.1}, {\"Fiscal Year\": \"1985-01-01T00:00:00\", \"Category\": \"Total Benefits(M)\", \"value\": 10743.6}, {\"Fiscal Year\": \"1986-01-01T00:00:00\", \"Category\": \"Total Benefits(M)\", \"value\": 10605.2}, {\"Fiscal Year\": \"1987-01-01T00:00:00\", \"Category\": \"Total Benefits(M)\", \"value\": 10500.3}, {\"Fiscal Year\": \"1988-01-01T00:00:00\", \"Category\": \"Total Benefits(M)\", \"value\": 11149.1}, {\"Fiscal Year\": \"1989-01-01T00:00:00\", \"Category\": \"Total Benefits(M)\", \"value\": 11669.78}, {\"Fiscal Year\": \"1990-01-01T00:00:00\", \"Category\": \"Total Benefits(M)\", \"value\": 14142.79}, {\"Fiscal Year\": \"1991-01-01T00:00:00\", \"Category\": \"Total Benefits(M)\", \"value\": 17315.77}, {\"Fiscal Year\": \"1992-01-01T00:00:00\", \"Category\": \"Total Benefits(M)\", \"value\": 20905.68}, {\"Fiscal Year\": \"1993-01-01T00:00:00\", \"Category\": \"Total Benefits(M)\", \"value\": 22006.03}, {\"Fiscal Year\": \"1994-01-01T00:00:00\", \"Category\": \"Total Benefits(M)\", \"value\": 22748.58}, {\"Fiscal Year\": \"1995-01-01T00:00:00\", \"Category\": \"Total Benefits(M)\", \"value\": 22764.07}, {\"Fiscal Year\": \"1996-01-01T00:00:00\", \"Category\": \"Total Benefits(M)\", \"value\": 22440.11}, {\"Fiscal Year\": \"1997-01-01T00:00:00\", \"Category\": \"Total Benefits(M)\", \"value\": 19548.86}, {\"Fiscal Year\": \"1998-01-01T00:00:00\", \"Category\": \"Total Benefits(M)\", \"value\": 16890.49}, {\"Fiscal Year\": \"1999-01-01T00:00:00\", \"Category\": \"Total Benefits(M)\", \"value\": 15769.4}, {\"Fiscal Year\": \"2000-01-01T00:00:00\", \"Category\": \"Total Benefits(M)\", \"value\": 14983.32}, {\"Fiscal Year\": \"2001-01-01T00:00:00\", \"Category\": \"Total Benefits(M)\", \"value\": 15547.39}, {\"Fiscal Year\": \"2002-01-01T00:00:00\", \"Category\": \"Total Benefits(M)\", \"value\": 18256.2}, {\"Fiscal Year\": \"2003-01-01T00:00:00\", \"Category\": \"Total Benefits(M)\", \"value\": 21404.28}, {\"Fiscal Year\": \"2004-01-01T00:00:00\", \"Category\": \"Total Benefits(M)\", \"value\": 24618.89}, {\"Fiscal Year\": \"2005-01-01T00:00:00\", \"Category\": \"Total Benefits(M)\", \"value\": 28567.88}, {\"Fiscal Year\": \"2006-01-01T00:00:00\", \"Category\": \"Total Benefits(M)\", \"value\": 30187.35}, {\"Fiscal Year\": \"2007-01-01T00:00:00\", \"Category\": \"Total Benefits(M)\", \"value\": 30373.27}, {\"Fiscal Year\": \"2008-01-01T00:00:00\", \"Category\": \"Total Benefits(M)\", \"value\": 34608.4}, {\"Fiscal Year\": \"2009-01-01T00:00:00\", \"Category\": \"Total Benefits(M)\", \"value\": 50359.92}, {\"Fiscal Year\": \"2010-01-01T00:00:00\", \"Category\": \"Total Benefits(M)\", \"value\": 64702.16}, {\"Fiscal Year\": \"2011-01-01T00:00:00\", \"Category\": \"Total Benefits(M)\", \"value\": 71810.92}, {\"Fiscal Year\": \"2012-01-01T00:00:00\", \"Category\": \"Total Benefits(M)\", \"value\": 74619.34}, {\"Fiscal Year\": \"2013-01-01T00:00:00\", \"Category\": \"Total Benefits(M)\", \"value\": 76066.32}, {\"Fiscal Year\": \"2014-01-01T00:00:00\", \"Category\": \"Total Benefits(M)\", \"value\": 69998.84}, {\"Fiscal Year\": \"2015-01-01T00:00:00\", \"Category\": \"Total Benefits(M)\", \"value\": 69645.14}, {\"Fiscal Year\": \"2016-01-01T00:00:00\", \"Category\": \"Total Benefits(M)\", \"value\": 66539.27}, {\"Fiscal Year\": \"2017-01-01T00:00:00\", \"Category\": \"Total Benefits(M)\", \"value\": 63711.05}, {\"Fiscal Year\": \"2018-01-01T00:00:00\", \"Category\": \"Total Benefits(M)\", \"value\": 60916.85}, {\"Fiscal Year\": \"2019-01-01T00:00:00\", \"Category\": \"Total Benefits(M)\", \"value\": 55621.88}, {\"Fiscal Year\": \"1969-01-01T00:00:00\", \"Category\": \"Other Costs\", \"value\": 21.7}, {\"Fiscal Year\": \"1970-01-01T00:00:00\", \"Category\": \"Other Costs\", \"value\": 27.2}, {\"Fiscal Year\": \"1971-01-01T00:00:00\", \"Category\": \"Other Costs\", \"value\": 53.2}, {\"Fiscal Year\": \"1972-01-01T00:00:00\", \"Category\": \"Other Costs\", \"value\": 69.4}, {\"Fiscal Year\": \"1973-01-01T00:00:00\", \"Category\": \"Other Costs\", \"value\": 76.0}, {\"Fiscal Year\": \"1974-01-01T00:00:00\", \"Category\": \"Other Costs\", \"value\": 119.2}, {\"Fiscal Year\": \"1975-01-01T00:00:00\", \"Category\": \"Other Costs\", \"value\": 233.2}, {\"Fiscal Year\": \"1976-01-01T00:00:00\", \"Category\": \"Other Costs\", \"value\": 359.0}, {\"Fiscal Year\": \"1977-01-01T00:00:00\", \"Category\": \"Other Costs\", \"value\": 394.0}, {\"Fiscal Year\": \"1978-01-01T00:00:00\", \"Category\": \"Other Costs\", \"value\": 380.5}, {\"Fiscal Year\": \"1979-01-01T00:00:00\", \"Category\": \"Other Costs\", \"value\": 459.6}, {\"Fiscal Year\": \"1980-01-01T00:00:00\", \"Category\": \"Other Costs\", \"value\": 485.6}, {\"Fiscal Year\": \"1981-01-01T00:00:00\", \"Category\": \"Other Costs\", \"value\": 595.4}, {\"Fiscal Year\": \"1982-01-01T00:00:00\", \"Category\": \"Other Costs\", \"value\": 628.4}, {\"Fiscal Year\": \"1983-01-01T00:00:00\", \"Category\": \"Other Costs\", \"value\": 694.8}, {\"Fiscal Year\": \"1984-01-01T00:00:00\", \"Category\": \"Other Costs\", \"value\": 882.6}, {\"Fiscal Year\": \"1985-01-01T00:00:00\", \"Category\": \"Other Costs\", \"value\": 959.6}, {\"Fiscal Year\": \"1986-01-01T00:00:00\", \"Category\": \"Other Costs\", \"value\": 1033.2}, {\"Fiscal Year\": \"1987-01-01T00:00:00\", \"Category\": \"Other Costs\", \"value\": 1103.9}, {\"Fiscal Year\": \"1988-01-01T00:00:00\", \"Category\": \"Other Costs\", \"value\": 1167.7}, {\"Fiscal Year\": \"1989-01-01T00:00:00\", \"Category\": \"Other Costs\", \"value\": 1231.81}, {\"Fiscal Year\": \"1990-01-01T00:00:00\", \"Category\": \"Other Costs\", \"value\": 1304.47}, {\"Fiscal Year\": \"1991-01-01T00:00:00\", \"Category\": \"Other Costs\", \"value\": 1431.5}, {\"Fiscal Year\": \"1992-01-01T00:00:00\", \"Category\": \"Other Costs\", \"value\": 1556.66}, {\"Fiscal Year\": \"1993-01-01T00:00:00\", \"Category\": \"Other Costs\", \"value\": 1646.94}, {\"Fiscal Year\": \"1994-01-01T00:00:00\", \"Category\": \"Other Costs\", \"value\": 1744.87}, {\"Fiscal Year\": \"1995-01-01T00:00:00\", \"Category\": \"Other Costs\", \"value\": 1856.3}, {\"Fiscal Year\": \"1996-01-01T00:00:00\", \"Category\": \"Other Costs\", \"value\": 1890.88}, {\"Fiscal Year\": \"1997-01-01T00:00:00\", \"Category\": \"Other Costs\", \"value\": 1958.68}, {\"Fiscal Year\": \"1998-01-01T00:00:00\", \"Category\": \"Other Costs\", \"value\": 2097.84}, {\"Fiscal Year\": \"1999-01-01T00:00:00\", \"Category\": \"Other Costs\", \"value\": 2051.52}, {\"Fiscal Year\": \"2000-01-01T00:00:00\", \"Category\": \"Other Costs\", \"value\": 2070.7}, {\"Fiscal Year\": \"2001-01-01T00:00:00\", \"Category\": \"Other Costs\", \"value\": 2242.0}, {\"Fiscal Year\": \"2002-01-01T00:00:00\", \"Category\": \"Other Costs\", \"value\": 2380.82}, {\"Fiscal Year\": \"2003-01-01T00:00:00\", \"Category\": \"Other Costs\", \"value\": 2412.01}, {\"Fiscal Year\": \"2004-01-01T00:00:00\", \"Category\": \"Other Costs\", \"value\": 2480.14}, {\"Fiscal Year\": \"2005-01-01T00:00:00\", \"Category\": \"Other Costs\", \"value\": 2504.13}, {\"Fiscal Year\": \"2006-01-01T00:00:00\", \"Category\": \"Other Costs\", \"value\": 2715.72}, {\"Fiscal Year\": \"2007-01-01T00:00:00\", \"Category\": \"Other Costs\", \"value\": 2800.25}, {\"Fiscal Year\": \"2008-01-01T00:00:00\", \"Category\": \"Other Costs\", \"value\": 3031.25}, {\"Fiscal Year\": \"2009-01-01T00:00:00\", \"Category\": \"Other Costs\", \"value\": 3260.0}, {\"Fiscal Year\": \"2010-01-01T00:00:00\", \"Category\": \"Other Costs\", \"value\": 3581.3}, {\"Fiscal Year\": \"2011-01-01T00:00:00\", \"Category\": \"Other Costs\", \"value\": 3875.62}, {\"Fiscal Year\": \"2012-01-01T00:00:00\", \"Category\": \"Other Costs\", \"value\": 3791.75}, {\"Fiscal Year\": \"2013-01-01T00:00:00\", \"Category\": \"Other Costs\", \"value\": 3792.71}, {\"Fiscal Year\": \"2014-01-01T00:00:00\", \"Category\": \"Other Costs\", \"value\": 4061.49}, {\"Fiscal Year\": \"2015-01-01T00:00:00\", \"Category\": \"Other Costs\", \"value\": 4301.03}, {\"Fiscal Year\": \"2016-01-01T00:00:00\", \"Category\": \"Other Costs\", \"value\": 4374.28}, {\"Fiscal Year\": \"2017-01-01T00:00:00\", \"Category\": \"Other Costs\", \"value\": 4463.67}, {\"Fiscal Year\": \"2018-01-01T00:00:00\", \"Category\": \"Other Costs\", \"value\": 4529.55}, {\"Fiscal Year\": \"2019-01-01T00:00:00\", \"Category\": \"Other Costs\", \"value\": 4744.33}]}}, {\"mode\": \"vega-lite\"});\n",
       "</script>"
      ],
      "text/plain": [
       "alt.Chart(...)"
      ]
     },
     "execution_count": 45,
     "metadata": {},
     "output_type": "execute_result"
    }
   ],
   "source": [
    "alt.Chart(df2_snap).mark_bar().encode(\n",
    "    x = 'Fiscal Year',\n",
    "    y = alt.Y('sum(value)', title = 'Total Cost in Millions'),\n",
    "    color = 'Category',\n",
    "    tooltip = ['Fiscal Year', 'sum(value)']\n",
    ").properties(\n",
    "    title = 'Total Costs by Category',\n",
    "    width = 600\n",
    ")"
   ]
  },
  {
   "cell_type": "code",
   "execution_count": 46,
   "metadata": {
    "tags": []
   },
   "outputs": [
    {
     "data": {
      "text/html": [
       "\n",
       "<style>\n",
       "  #altair-viz-df66726691064d8480ed2082852466fc.vega-embed {\n",
       "    width: 100%;\n",
       "    display: flex;\n",
       "  }\n",
       "\n",
       "  #altair-viz-df66726691064d8480ed2082852466fc.vega-embed details,\n",
       "  #altair-viz-df66726691064d8480ed2082852466fc.vega-embed details summary {\n",
       "    position: relative;\n",
       "  }\n",
       "</style>\n",
       "<div id=\"altair-viz-df66726691064d8480ed2082852466fc\"></div>\n",
       "<script type=\"text/javascript\">\n",
       "  var VEGA_DEBUG = (typeof VEGA_DEBUG == \"undefined\") ? {} : VEGA_DEBUG;\n",
       "  (function(spec, embedOpt){\n",
       "    let outputDiv = document.currentScript.previousElementSibling;\n",
       "    if (outputDiv.id !== \"altair-viz-df66726691064d8480ed2082852466fc\") {\n",
       "      outputDiv = document.getElementById(\"altair-viz-df66726691064d8480ed2082852466fc\");\n",
       "    }\n",
       "    const paths = {\n",
       "      \"vega\": \"https://cdn.jsdelivr.net/npm/vega@5?noext\",\n",
       "      \"vega-lib\": \"https://cdn.jsdelivr.net/npm/vega-lib?noext\",\n",
       "      \"vega-lite\": \"https://cdn.jsdelivr.net/npm/vega-lite@5.16.3?noext\",\n",
       "      \"vega-embed\": \"https://cdn.jsdelivr.net/npm/vega-embed@6?noext\",\n",
       "    };\n",
       "\n",
       "    function maybeLoadScript(lib, version) {\n",
       "      var key = `${lib.replace(\"-\", \"\")}_version`;\n",
       "      return (VEGA_DEBUG[key] == version) ?\n",
       "        Promise.resolve(paths[lib]) :\n",
       "        new Promise(function(resolve, reject) {\n",
       "          var s = document.createElement('script');\n",
       "          document.getElementsByTagName(\"head\")[0].appendChild(s);\n",
       "          s.async = true;\n",
       "          s.onload = () => {\n",
       "            VEGA_DEBUG[key] = version;\n",
       "            return resolve(paths[lib]);\n",
       "          };\n",
       "          s.onerror = () => reject(`Error loading script: ${paths[lib]}`);\n",
       "          s.src = paths[lib];\n",
       "        });\n",
       "    }\n",
       "\n",
       "    function showError(err) {\n",
       "      outputDiv.innerHTML = `<div class=\"error\" style=\"color:red;\">${err}</div>`;\n",
       "      throw err;\n",
       "    }\n",
       "\n",
       "    function displayChart(vegaEmbed) {\n",
       "      vegaEmbed(outputDiv, spec, embedOpt)\n",
       "        .catch(err => showError(`Javascript Error: ${err.message}<br>This usually means there's a typo in your chart specification. See the javascript console for the full traceback.`));\n",
       "    }\n",
       "\n",
       "    if(typeof define === \"function\" && define.amd) {\n",
       "      requirejs.config({paths});\n",
       "      require([\"vega-embed\"], displayChart, err => showError(`Error loading script: ${err.message}`));\n",
       "    } else {\n",
       "      maybeLoadScript(\"vega\", \"5\")\n",
       "        .then(() => maybeLoadScript(\"vega-lite\", \"5.16.3\"))\n",
       "        .then(() => maybeLoadScript(\"vega-embed\", \"6\"))\n",
       "        .catch(showError)\n",
       "        .then(() => displayChart(vegaEmbed));\n",
       "    }\n",
       "  })({\"config\": {\"view\": {\"continuousWidth\": 300, \"continuousHeight\": 300}}, \"data\": {\"name\": \"data-735f240193dd2cdb3a32cdf14aa8adc1\"}, \"mark\": {\"type\": \"bar\", \"point\": true}, \"encoding\": {\"tooltip\": [{\"field\": \"Fiscal Year\", \"type\": \"temporal\"}, {\"field\": \"Other Costs\", \"type\": \"quantitative\"}], \"x\": {\"field\": \"Fiscal Year\", \"type\": \"temporal\"}, \"y\": {\"field\": \"Other Costs\", \"title\": \"Cost in Millions\", \"type\": \"quantitative\"}}, \"title\": \"Other Costs\", \"width\": 600, \"$schema\": \"https://vega.github.io/schema/vega-lite/v5.16.3.json\", \"datasets\": {\"data-735f240193dd2cdb3a32cdf14aa8adc1\": [{\"Fiscal Year\": \"1969-01-01T00:00:00\", \"Average Participation\": 2878, \"Average Benefit Per Person\": 6.63, \"Total Benefits(M)\": 228.8, \"Other Costs\": 21.7, \"Total Costs(M)\": 250.5}, {\"Fiscal Year\": \"1970-01-01T00:00:00\", \"Average Participation\": 4340, \"Average Benefit Per Person\": 10.55, \"Total Benefits(M)\": 549.7, \"Other Costs\": 27.2, \"Total Costs(M)\": 576.9}, {\"Fiscal Year\": \"1971-01-01T00:00:00\", \"Average Participation\": 9368, \"Average Benefit Per Person\": 13.55, \"Total Benefits(M)\": 1522.7, \"Other Costs\": 53.2, \"Total Costs(M)\": 1575.9}, {\"Fiscal Year\": \"1972-01-01T00:00:00\", \"Average Participation\": 11109, \"Average Benefit Per Person\": 13.48, \"Total Benefits(M)\": 1797.3, \"Other Costs\": 69.4, \"Total Costs(M)\": 1866.7}, {\"Fiscal Year\": \"1973-01-01T00:00:00\", \"Average Participation\": 12166, \"Average Benefit Per Person\": 14.6, \"Total Benefits(M)\": 2131.4, \"Other Costs\": 76.0, \"Total Costs(M)\": 2207.4}, {\"Fiscal Year\": \"1974-01-01T00:00:00\", \"Average Participation\": 12862, \"Average Benefit Per Person\": 17.61, \"Total Benefits(M)\": 2718.3, \"Other Costs\": 119.2, \"Total Costs(M)\": 2837.5}, {\"Fiscal Year\": \"1975-01-01T00:00:00\", \"Average Participation\": 17064, \"Average Benefit Per Person\": 21.4, \"Total Benefits(M)\": 4385.5, \"Other Costs\": 233.2, \"Total Costs(M)\": 4618.7}, {\"Fiscal Year\": \"1976-01-01T00:00:00\", \"Average Participation\": 18549, \"Average Benefit Per Person\": 23.93, \"Total Benefits(M)\": 5326.5, \"Other Costs\": 359.0, \"Total Costs(M)\": 5685.5}, {\"Fiscal Year\": \"1977-01-01T00:00:00\", \"Average Participation\": 17077, \"Average Benefit Per Person\": 24.71, \"Total Benefits(M)\": 5067.0, \"Other Costs\": 394.0, \"Total Costs(M)\": 5461.0}, {\"Fiscal Year\": \"1978-01-01T00:00:00\", \"Average Participation\": 16001, \"Average Benefit Per Person\": 26.77, \"Total Benefits(M)\": 5139.2, \"Other Costs\": 380.5, \"Total Costs(M)\": 5519.7}, {\"Fiscal Year\": \"1979-01-01T00:00:00\", \"Average Participation\": 17653, \"Average Benefit Per Person\": 30.59, \"Total Benefits(M)\": 6480.2, \"Other Costs\": 459.6, \"Total Costs(M)\": 6939.8}, {\"Fiscal Year\": \"1980-01-01T00:00:00\", \"Average Participation\": 21082, \"Average Benefit Per Person\": 34.47, \"Total Benefits(M)\": 8720.9, \"Other Costs\": 485.6, \"Total Costs(M)\": 9206.5}, {\"Fiscal Year\": \"1981-01-01T00:00:00\", \"Average Participation\": 22430, \"Average Benefit Per Person\": 39.49, \"Total Benefits(M)\": 10629.9, \"Other Costs\": 595.4, \"Total Costs(M)\": 11225.2}, {\"Fiscal Year\": \"1982-01-01T00:00:00\", \"Average Participation\": 21717, \"Average Benefit Per Person\": 39.17, \"Total Benefits(M)\": 10208.3, \"Other Costs\": 628.4, \"Total Costs(M)\": 10836.7}, {\"Fiscal Year\": \"1983-01-01T00:00:00\", \"Average Participation\": 21625, \"Average Benefit Per Person\": 42.98, \"Total Benefits(M)\": 11152.3, \"Other Costs\": 694.8, \"Total Costs(M)\": 11847.1}, {\"Fiscal Year\": \"1984-01-01T00:00:00\", \"Average Participation\": 20854, \"Average Benefit Per Person\": 42.74, \"Total Benefits(M)\": 10696.1, \"Other Costs\": 882.6, \"Total Costs(M)\": 11578.8}, {\"Fiscal Year\": \"1985-01-01T00:00:00\", \"Average Participation\": 19899, \"Average Benefit Per Person\": 44.99, \"Total Benefits(M)\": 10743.6, \"Other Costs\": 959.6, \"Total Costs(M)\": 11703.2}, {\"Fiscal Year\": \"1986-01-01T00:00:00\", \"Average Participation\": 19429, \"Average Benefit Per Person\": 45.49, \"Total Benefits(M)\": 10605.2, \"Other Costs\": 1033.2, \"Total Costs(M)\": 11638.4}, {\"Fiscal Year\": \"1987-01-01T00:00:00\", \"Average Participation\": 19113, \"Average Benefit Per Person\": 45.78, \"Total Benefits(M)\": 10500.3, \"Other Costs\": 1103.9, \"Total Costs(M)\": 11604.2}, {\"Fiscal Year\": \"1988-01-01T00:00:00\", \"Average Participation\": 18645, \"Average Benefit Per Person\": 49.83, \"Total Benefits(M)\": 11149.1, \"Other Costs\": 1167.7, \"Total Costs(M)\": 12316.8}, {\"Fiscal Year\": \"1989-01-01T00:00:00\", \"Average Participation\": 18806, \"Average Benefit Per Person\": 51.71, \"Total Benefits(M)\": 11669.78, \"Other Costs\": 1231.81, \"Total Costs(M)\": 12901.59}, {\"Fiscal Year\": \"1990-01-01T00:00:00\", \"Average Participation\": 20049, \"Average Benefit Per Person\": 58.78, \"Total Benefits(M)\": 14142.79, \"Other Costs\": 1304.47, \"Total Costs(M)\": 15447.26}, {\"Fiscal Year\": \"1991-01-01T00:00:00\", \"Average Participation\": 22625, \"Average Benefit Per Person\": 63.78, \"Total Benefits(M)\": 17315.77, \"Other Costs\": 1431.5, \"Total Costs(M)\": 18747.27}, {\"Fiscal Year\": \"1992-01-01T00:00:00\", \"Average Participation\": 25407, \"Average Benefit Per Person\": 68.57, \"Total Benefits(M)\": 20905.68, \"Other Costs\": 1556.66, \"Total Costs(M)\": 22462.34}, {\"Fiscal Year\": \"1993-01-01T00:00:00\", \"Average Participation\": 26987, \"Average Benefit Per Person\": 67.95, \"Total Benefits(M)\": 22006.03, \"Other Costs\": 1646.94, \"Total Costs(M)\": 23652.97}, {\"Fiscal Year\": \"1994-01-01T00:00:00\", \"Average Participation\": 27474, \"Average Benefit Per Person\": 69.0, \"Total Benefits(M)\": 22748.58, \"Other Costs\": 1744.87, \"Total Costs(M)\": 24493.45}, {\"Fiscal Year\": \"1995-01-01T00:00:00\", \"Average Participation\": 26619, \"Average Benefit Per Person\": 71.27, \"Total Benefits(M)\": 22764.07, \"Other Costs\": 1856.3, \"Total Costs(M)\": 24620.37}, {\"Fiscal Year\": \"1996-01-01T00:00:00\", \"Average Participation\": 25543, \"Average Benefit Per Person\": 73.21, \"Total Benefits(M)\": 22440.11, \"Other Costs\": 1890.88, \"Total Costs(M)\": 24330.99}, {\"Fiscal Year\": \"1997-01-01T00:00:00\", \"Average Participation\": 22858, \"Average Benefit Per Person\": 71.27, \"Total Benefits(M)\": 19548.86, \"Other Costs\": 1958.68, \"Total Costs(M)\": 21507.55}, {\"Fiscal Year\": \"1998-01-01T00:00:00\", \"Average Participation\": 19791, \"Average Benefit Per Person\": 71.12, \"Total Benefits(M)\": 16890.49, \"Other Costs\": 2097.84, \"Total Costs(M)\": 18988.32}, {\"Fiscal Year\": \"1999-01-01T00:00:00\", \"Average Participation\": 18183, \"Average Benefit Per Person\": 72.27, \"Total Benefits(M)\": 15769.4, \"Other Costs\": 2051.52, \"Total Costs(M)\": 17820.92}, {\"Fiscal Year\": \"2000-01-01T00:00:00\", \"Average Participation\": 17194, \"Average Benefit Per Person\": 72.62, \"Total Benefits(M)\": 14983.32, \"Other Costs\": 2070.7, \"Total Costs(M)\": 17054.02}, {\"Fiscal Year\": \"2001-01-01T00:00:00\", \"Average Participation\": 17318, \"Average Benefit Per Person\": 74.81, \"Total Benefits(M)\": 15547.39, \"Other Costs\": 2242.0, \"Total Costs(M)\": 17789.39}, {\"Fiscal Year\": \"2002-01-01T00:00:00\", \"Average Participation\": 19096, \"Average Benefit Per Person\": 79.67, \"Total Benefits(M)\": 18256.2, \"Other Costs\": 2380.82, \"Total Costs(M)\": 20637.02}, {\"Fiscal Year\": \"2003-01-01T00:00:00\", \"Average Participation\": 21250, \"Average Benefit Per Person\": 83.94, \"Total Benefits(M)\": 21404.28, \"Other Costs\": 2412.01, \"Total Costs(M)\": 23816.28}, {\"Fiscal Year\": \"2004-01-01T00:00:00\", \"Average Participation\": 23811, \"Average Benefit Per Person\": 86.16, \"Total Benefits(M)\": 24618.89, \"Other Costs\": 2480.14, \"Total Costs(M)\": 27099.03}, {\"Fiscal Year\": \"2005-01-01T00:00:00\", \"Average Participation\": 25628, \"Average Benefit Per Person\": 92.89, \"Total Benefits(M)\": 28567.88, \"Other Costs\": 2504.13, \"Total Costs(M)\": 31072.01}, {\"Fiscal Year\": \"2006-01-01T00:00:00\", \"Average Participation\": 26549, \"Average Benefit Per Person\": 94.75, \"Total Benefits(M)\": 30187.35, \"Other Costs\": 2715.72, \"Total Costs(M)\": 32903.06}, {\"Fiscal Year\": \"2007-01-01T00:00:00\", \"Average Participation\": 26316, \"Average Benefit Per Person\": 96.18, \"Total Benefits(M)\": 30373.27, \"Other Costs\": 2800.25, \"Total Costs(M)\": 33173.52}, {\"Fiscal Year\": \"2008-01-01T00:00:00\", \"Average Participation\": 28223, \"Average Benefit Per Person\": 102.19, \"Total Benefits(M)\": 34608.4, \"Other Costs\": 3031.25, \"Total Costs(M)\": 37639.64}, {\"Fiscal Year\": \"2009-01-01T00:00:00\", \"Average Participation\": 33490, \"Average Benefit Per Person\": 125.31, \"Total Benefits(M)\": 50359.92, \"Other Costs\": 3260.0, \"Total Costs(M)\": 53619.92}, {\"Fiscal Year\": \"2010-01-01T00:00:00\", \"Average Participation\": 40302, \"Average Benefit Per Person\": 133.79, \"Total Benefits(M)\": 64702.16, \"Other Costs\": 3581.3, \"Total Costs(M)\": 68283.47}, {\"Fiscal Year\": \"2011-01-01T00:00:00\", \"Average Participation\": 44709, \"Average Benefit Per Person\": 133.85, \"Total Benefits(M)\": 71810.92, \"Other Costs\": 3875.62, \"Total Costs(M)\": 75686.54}, {\"Fiscal Year\": \"2012-01-01T00:00:00\", \"Average Participation\": 46609, \"Average Benefit Per Person\": 133.41, \"Total Benefits(M)\": 74619.34, \"Other Costs\": 3791.75, \"Total Costs(M)\": 78411.1}, {\"Fiscal Year\": \"2013-01-01T00:00:00\", \"Average Participation\": 47636, \"Average Benefit Per Person\": 133.07, \"Total Benefits(M)\": 76066.32, \"Other Costs\": 3792.71, \"Total Costs(M)\": 79859.03}, {\"Fiscal Year\": \"2014-01-01T00:00:00\", \"Average Participation\": 46664, \"Average Benefit Per Person\": 125.01, \"Total Benefits(M)\": 69998.84, \"Other Costs\": 4061.49, \"Total Costs(M)\": 74060.33}, {\"Fiscal Year\": \"2015-01-01T00:00:00\", \"Average Participation\": 45767, \"Average Benefit Per Person\": 126.81, \"Total Benefits(M)\": 69645.14, \"Other Costs\": 4301.03, \"Total Costs(M)\": 73946.17}, {\"Fiscal Year\": \"2016-01-01T00:00:00\", \"Average Participation\": 44220, \"Average Benefit Per Person\": 125.4, \"Total Benefits(M)\": 66539.27, \"Other Costs\": 4374.28, \"Total Costs(M)\": 70913.55}, {\"Fiscal Year\": \"2017-01-01T00:00:00\", \"Average Participation\": 42317, \"Average Benefit Per Person\": 125.47, \"Total Benefits(M)\": 63711.05, \"Other Costs\": 4463.67, \"Total Costs(M)\": 68174.72}, {\"Fiscal Year\": \"2018-01-01T00:00:00\", \"Average Participation\": 40776, \"Average Benefit Per Person\": 124.5, \"Total Benefits(M)\": 60916.85, \"Other Costs\": 4529.55, \"Total Costs(M)\": 65446.4}, {\"Fiscal Year\": \"2019-01-01T00:00:00\", \"Average Participation\": 35703, \"Average Benefit Per Person\": 129.83, \"Total Benefits(M)\": 55621.88, \"Other Costs\": 4744.33, \"Total Costs(M)\": 60366.21}]}}, {\"mode\": \"vega-lite\"});\n",
       "</script>"
      ],
      "text/plain": [
       "alt.Chart(...)"
      ]
     },
     "execution_count": 46,
     "metadata": {},
     "output_type": "execute_result"
    }
   ],
   "source": [
    "alt.Chart(df).mark_bar(point = True).encode(\n",
    "    x = 'Fiscal Year',\n",
    "    y = alt.Y('Other Costs', title = 'Cost in Millions'),\n",
    "    tooltip = ['Fiscal Year', 'Other Costs']\n",
    ").properties(\n",
    "    title = 'Other Costs',\n",
    "    width = 600\n",
    ")"
   ]
  },
  {
   "cell_type": "code",
   "execution_count": null,
   "metadata": {},
   "outputs": [],
   "source": []
  }
 ],
 "metadata": {
  "kaggle": {
   "accelerator": "none",
   "dataSources": [
    {
     "datasetId": 3145538,
     "sourceId": 6342279,
     "sourceType": "datasetVersion"
    }
   ],
   "dockerImageVersionId": 30458,
   "isGpuEnabled": false,
   "isInternetEnabled": false,
   "language": "python",
   "sourceType": "notebook"
  },
  "kernelspec": {
   "display_name": "Python 3 (ipykernel)",
   "language": "python",
   "name": "python3"
  },
  "language_info": {
   "codemirror_mode": {
    "name": "ipython",
    "version": 3
   },
   "file_extension": ".py",
   "mimetype": "text/x-python",
   "name": "python",
   "nbconvert_exporter": "python",
   "pygments_lexer": "ipython3",
   "version": "3.9.13"
  }
 },
 "nbformat": 4,
 "nbformat_minor": 4
}
